{
 "cells": [
  {
   "cell_type": "markdown",
   "id": "259bf7fe",
   "metadata": {},
   "source": [
    "# Topic 03: Bias\n",
    "***"
   ]
  },
  {
   "cell_type": "code",
   "execution_count": 1,
   "id": "03648720",
   "metadata": {},
   "outputs": [],
   "source": [
    "# Import numpy\n",
    "import numpy as np\n",
    "\n",
    "# Import matplotlib\n",
    "import matplotlib.pyplot as plt"
   ]
  },
  {
   "cell_type": "code",
   "execution_count": 2,
   "id": "2f62a4d0",
   "metadata": {},
   "outputs": [],
   "source": [
    "# Demonstrating cognitive bias...how we can fool ourselves\n",
    "# This code is obfuscated on purpose.\n",
    "import operator as o__\n",
    "\n",
    "def test(L):\n",
    "    return True if o__.__ge__(0b10001, len(L) * 2 + sum([i - 0b10 for i in L])) and all([o__.__ge__(L[::-1][i], L[::-1][i+0b1]) for i in range(len(L)-1)]) else False"
   ]
  },
  {
   "cell_type": "code",
   "execution_count": 3,
   "id": "10c868bc",
   "metadata": {},
   "outputs": [
    {
     "data": {
      "text/plain": [
       "True"
      ]
     },
     "execution_count": 3,
     "metadata": {},
     "output_type": "execute_result"
    }
   ],
   "source": [
    "test([1, 2, 3, 4])"
   ]
  },
  {
   "cell_type": "code",
   "execution_count": 4,
   "id": "57400270",
   "metadata": {},
   "outputs": [
    {
     "data": {
      "text/plain": [
       "True"
      ]
     },
     "execution_count": 4,
     "metadata": {},
     "output_type": "execute_result"
    }
   ],
   "source": [
    "test([2, 3])"
   ]
  },
  {
   "cell_type": "code",
   "execution_count": 5,
   "id": "3293d7f7",
   "metadata": {},
   "outputs": [
    {
     "data": {
      "text/plain": [
       "False"
      ]
     },
     "execution_count": 5,
     "metadata": {},
     "output_type": "execute_result"
    }
   ],
   "source": [
    "test([3, 2, 1])"
   ]
  },
  {
   "cell_type": "code",
   "execution_count": 6,
   "id": "7aed4e94",
   "metadata": {},
   "outputs": [
    {
     "data": {
      "text/plain": [
       "True"
      ]
     },
     "execution_count": 6,
     "metadata": {},
     "output_type": "execute_result"
    }
   ],
   "source": [
    "test([1, 2, 3, 10])"
   ]
  },
  {
   "cell_type": "code",
   "execution_count": 8,
   "id": "ad7963fc",
   "metadata": {},
   "outputs": [
    {
     "data": {
      "text/plain": [
       "False"
      ]
     },
     "execution_count": 8,
     "metadata": {},
     "output_type": "execute_result"
    }
   ],
   "source": [
    "test([1, 3, 2])"
   ]
  },
  {
   "cell_type": "code",
   "execution_count": 9,
   "id": "5dc93348",
   "metadata": {},
   "outputs": [
    {
     "data": {
      "text/plain": [
       "True"
      ]
     },
     "execution_count": 9,
     "metadata": {},
     "output_type": "execute_result"
    }
   ],
   "source": [
    "test([1, 1, 1])"
   ]
  },
  {
   "cell_type": "code",
   "execution_count": 10,
   "id": "9e365dc6",
   "metadata": {},
   "outputs": [
    {
     "data": {
      "text/plain": [
       "False"
      ]
     },
     "execution_count": 10,
     "metadata": {},
     "output_type": "execute_result"
    }
   ],
   "source": [
    "test([2, 3, 5, 10])"
   ]
  },
  {
   "cell_type": "markdown",
   "id": "fa2c67b0",
   "metadata": {},
   "source": [
    "## Exercise 1\n",
    "Give three real-world examples of different types of cognitive bias.\n",
    "\n",
    "**Confirmation bias** is the tendency to search for, interpret, focus on and remember information in a way that confirms one's preconceptions. 1\n",
    "Doctors can tend to interpret the information gained during a patient consultation to fit their preconceived diagnosis. For example, suspecting the patient has an infection and the detection of raised white blood cells proves this, rather than considering why the level of white blood cells are raised. 2 A raised white blood cell count this can be an indication of other conditions. 3\n",
    "\n",
    "**Normalcy bias** is a form of cognitive dissonance. It leads people to disbelieve or minimize threat warnings and so they fail to plan for, or react to, a disaster which has never happened before. 4 In a study of cognitive biases in software development, a developer did not realise the cause of his build failure was detailed in a new exception in compiler warnings because they had disregarded all compiler warnings out of habit.5\n",
    "\n",
    "**Egocentric bias**  is the tendency to rely too heavily on one's own perspective and/or have a higher opinion of oneself than reality 6 . A study of drivers and their observation abilities found that novice drivers with less than one year of driving experience rated their observation abilities higher than more experienced drivers did, indicating their overconfidence. 7\n"
   ]
  },
  {
   "cell_type": "markdown",
   "id": "35e3af8b",
   "metadata": {},
   "source": [
    "## References\n",
    "1. https://en.wikipedia.org/wiki/List_of_cognitive_biases#Confirmation_bias\n",
    "2. O'Sullivan ED, Schofield SJ. Cognitive bias in clinical medicine. J R Coll Physicians Edinb. 2018 Sep;48(3):225-232. doi: https://doi.org/0.4997/JRCPE.2018.306\n",
    "3. https://my.clevelandclinic.org/health/diagnostics/17704-high-white-blood-cell-count#:~:text=Leukocytosis%20means%20you%20have%20a,fighting%20off%20infection%20or%20inflammation.\n",
    "4. https://en.wikipedia.org/wiki/Normalcy_bias\n",
    "5. Chattopadhyay, S., Nelson, N., Au, A., Morales, N., Sanchez, C., Pandita, R., & Sarma, A. (2022). Cognitive Biases in Software Development. Communications of the ACM, 65(4), 115–122. https://doi.org/10.1145/3517217\n",
    "6. https://en.wikipedia.org/wiki/Egocentric_bias\n",
    "7. Xiang W, Liu X, Peng Q, Xue Q, Hao W, Yu J (2021) Cognitive bias analysis of young novice drivers’ observation abilities—A questionnaire-based study. PLoS ONE 16(5): e0251195. https://doi.org/10.1371/journal.pone.0251195"
   ]
  },
  {
   "cell_type": "code",
   "execution_count": null,
   "id": "0192665e",
   "metadata": {},
   "outputs": [],
   "source": []
  }
 ],
 "metadata": {
  "kernelspec": {
   "display_name": "Python 3 (ipykernel)",
   "language": "python",
   "name": "python3"
  },
  "language_info": {
   "codemirror_mode": {
    "name": "ipython",
    "version": 3
   },
   "file_extension": ".py",
   "mimetype": "text/x-python",
   "name": "python",
   "nbconvert_exporter": "python",
   "pygments_lexer": "ipython3",
   "version": "3.9.7"
  }
 },
 "nbformat": 4,
 "nbformat_minor": 5
}
