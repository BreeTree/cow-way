{
 "cells": [
  {
   "cell_type": "markdown",
   "id": "796bccb8",
   "metadata": {},
   "source": [
    "## Outliers"
   ]
  },
  {
   "cell_type": "code",
   "execution_count": 59,
   "id": "0fc11fc0",
   "metadata": {},
   "outputs": [],
   "source": [
    "# Numerical arrays.\n",
    "import numpy as np\n",
    "\n",
    "# Plotting.\n",
    "import matplotlib.pyplot as plt\n",
    "import seaborn as sns\n",
    "\n",
    "# Dataframe\n",
    "import pandas as pd\n",
    "\n",
    "# Statistics.\n",
    "import scipy.stats as ss\n",
    "\n",
    "# Set a global paramter for plot sizes\n",
    "plt.rcParams['figure.figsize'] = 12,6"
   ]
  },
  {
   "cell_type": "markdown",
   "id": "55529b4f",
   "metadata": {},
   "source": [
    "There are not many definitions of outliers. It is often easier to say what is not an outlier\n",
    "\n",
    "https://numpy.org/doc/stable/reference/random/generated/numpy.random.normal.html\n",
    "random.normal(loc=0.0, scale=1.0, size=None)"
   ]
  },
  {
   "cell_type": "markdown",
   "id": "b0a6be3b",
   "metadata": {},
   "source": [
    "## The Normal distribution - Scaling\n",
    "***\n",
    "\n",
    "LaTeX programming for mathematical notation. \n",
    "Double dollar signs centre the display\n",
    "Single dollar signs leave the display inline\n",
    "\n",
    "\n",
    "$ \\frac{1}{2} $\n",
    "\n",
    "$ \\frac{1}{\\sqrt{2 \\pi \\sigma^{2}}} $\n",
    "\n",
    "$$ \\frac{1}{\\sqrt{2 \\pi \\sigma^2 }} $$\n"
   ]
  },
  {
   "cell_type": "code",
   "execution_count": 2,
   "id": "5b3ac645",
   "metadata": {},
   "outputs": [
    {
     "data": {
      "text/plain": [
       "3.141592653589793"
      ]
     },
     "execution_count": 2,
     "metadata": {},
     "output_type": "execute_result"
    }
   ],
   "source": [
    "np.pi"
   ]
  },
  {
   "cell_type": "code",
   "execution_count": 3,
   "id": "b333d8b7",
   "metadata": {},
   "outputs": [
    {
     "data": {
      "text/plain": [
       "1.4142135623730951"
      ]
     },
     "execution_count": 3,
     "metadata": {},
     "output_type": "execute_result"
    }
   ],
   "source": [
    "np.sqrt(2)\n",
    "# both calculations give you irrational numbers, \n",
    "# they cannot be described by one number divided by another and have infinite decimal places"
   ]
  },
  {
   "cell_type": "code",
   "execution_count": 4,
   "id": "2eaa30a1",
   "metadata": {},
   "outputs": [
    {
     "data": {
      "text/plain": [
       "1.0"
      ]
     },
     "execution_count": 4,
     "metadata": {},
     "output_type": "execute_result"
    }
   ],
   "source": [
    "1.0**2\n",
    "# **2 > squared\n",
    "# important to be explicit with integers and floating points. Better to use 1.0 than 1"
   ]
  },
  {
   "cell_type": "code",
   "execution_count": 5,
   "id": "97d42084",
   "metadata": {},
   "outputs": [
    {
     "data": {
      "text/plain": [
       "1.0"
      ]
     },
     "execution_count": 5,
     "metadata": {},
     "output_type": "execute_result"
    }
   ],
   "source": [
    "sigma = 1.0\n",
    "sigma"
   ]
  },
  {
   "cell_type": "code",
   "execution_count": 6,
   "id": "b3a825a3",
   "metadata": {},
   "outputs": [
    {
     "data": {
      "text/plain": [
       "0.3989422804014327"
      ]
     },
     "execution_count": 6,
     "metadata": {},
     "output_type": "execute_result"
    }
   ],
   "source": [
    "1.0 / np.sqrt(2 * np.pi * sigma**2)"
   ]
  },
  {
   "cell_type": "code",
   "execution_count": 7,
   "id": "89ab423b",
   "metadata": {},
   "outputs": [
    {
     "data": {
      "image/png": "[encoded data removed]",
      "text/plain": [
       "<Figure size 432x288 with 1 Axes>"
      ]
     },
     "metadata": {
      "needs_background": "light"
     },
     "output_type": "display_data"
    }
   ],
   "source": [
    "sigma_vals = np.linspace(1.0, 10.0, 1000) \n",
    "#  see the fencepost error, off by one error\n",
    "\n",
    "plt.plot(sigma_vals, 1.0 / np.sqrt(2 * np.pi * sigma_vals**2));"
   ]
  },
  {
   "cell_type": "markdown",
   "id": "78d7fcba",
   "metadata": {},
   "source": [
    "## The Normal Distribution - the $e^x$ part\n",
    "\n",
    "$$ e^x $$\n",
    "\n",
    "$$ e^{-\\frac{(x - \\mu)^2}{2 \\sigma^2}} $$\n",
    "\n",
    "See: https://numpy.org/doc/stable/reference/random/generated/numpy.random.normal.html\n",
    "\n",
    "Fix $\\mu$ and $\\sigma$ and vary x"
   ]
  },
  {
   "cell_type": "code",
   "execution_count": 8,
   "id": "08ed1d42",
   "metadata": {},
   "outputs": [
    {
     "data": {
      "text/plain": [
       "2.718281828459045"
      ]
     },
     "execution_count": 8,
     "metadata": {},
     "output_type": "execute_result"
    }
   ],
   "source": [
    "np.e\n",
    "# Euler's number, used a lot in compound interest. \n",
    "# How often do you want to compound, keep compouding and you get e\n",
    "# A mathematical constant. "
   ]
  },
  {
   "cell_type": "code",
   "execution_count": 9,
   "id": "0928d119",
   "metadata": {},
   "outputs": [
    {
     "data": {
      "image/png": "[encoded data removed]",
      "text/plain": [
       "<Figure size 432x288 with 1 Axes>"
      ]
     },
     "metadata": {
      "needs_background": "light"
     },
     "output_type": "display_data"
    }
   ],
   "source": [
    "# Range of x values for plotting.\n",
    "x = np.linspace(0.0, 4.0, 1000)\n",
    "\n",
    "# Plot of e^x - built into numpy as np.exp.\n",
    "plt.plot(x, np.exp(x));\n",
    "\n",
    "# when x is 1, you get e "
   ]
  },
  {
   "cell_type": "markdown",
   "id": "72035450",
   "metadata": {},
   "source": [
    "Break down the formula into parts\n",
    "$$ e^{-\\frac{(x - \\mu)^2}{2 \\sigma^2}} $$\n",
    "\n",
    "Let $\\mu$ = 0 and $\\sigma$ = 1, \n",
    "\n",
    "$$ e^{-\\frac{(x - 0)^2}{2(1)^2}} $$\n",
    "\n",
    "$$ e^{-\\frac{(x)^2}{2}} $$\n"
   ]
  },
  {
   "cell_type": "code",
   "execution_count": 10,
   "id": "aecf99e3",
   "metadata": {},
   "outputs": [
    {
     "data": {
      "image/png": "[encoded data removed]",
      "text/plain": [
       "<Figure size 432x288 with 1 Axes>"
      ]
     },
     "metadata": {
      "needs_background": "light"
     },
     "output_type": "display_data"
    }
   ],
   "source": [
    "# Range of x values.\n",
    "x = np.linspace(-4.0, 4.0, 1000)\n",
    "\n",
    "# e to the minus x squared. \n",
    "plt.plot(x, np.exp(-(x**2)), label=r'$e^{-x^2}$') # use r for LaTeX in pyplot\n",
    "\n",
    "# Absolute legend.\n",
    "plt.legend();"
   ]
  },
  {
   "cell_type": "markdown",
   "id": "2ee794a9",
   "metadata": {},
   "source": [
    "Negative values when squared are positive so reflect the positive values squared. The curve peaks at 1 because e<sup>0</sup> = 1"
   ]
  },
  {
   "cell_type": "code",
   "execution_count": 11,
   "id": "e84be012",
   "metadata": {},
   "outputs": [
    {
     "data": {
      "image/png": "[encoded data removed]",
      "text/plain": [
       "<Figure size 432x288 with 1 Axes>"
      ]
     },
     "metadata": {
      "needs_background": "light"
     },
     "output_type": "display_data"
    }
   ],
   "source": [
    "# Range of x values.\n",
    "x = np.linspace(-4.0, 4.0, 1000)\n",
    "\n",
    "# e to the minus x squared and divided by 2\n",
    "plt.plot(x, np.exp(-(x**2 / 2)), label=r'$e^{-x^2/2}$') \n",
    "\n",
    "# Absolute legend.\n",
    "plt.legend();"
   ]
  },
  {
   "cell_type": "markdown",
   "id": "fbb550d0",
   "metadata": {},
   "source": [
    "The curve seems to have widened when $e^{-x^2}$ is divided by 2\n",
    "\n",
    "Now replace 0 for $\\mu$ and 1 for $\\sigma$ in the statement and supply these values to numpy. "
   ]
  },
  {
   "cell_type": "code",
   "execution_count": 12,
   "id": "ef5cb04a",
   "metadata": {},
   "outputs": [
    {
     "data": {
      "image/png": "[encoded data removed]",
      "text/plain": [
       "<Figure size 432x288 with 1 Axes>"
      ]
     },
     "metadata": {
      "needs_background": "light"
     },
     "output_type": "display_data"
    }
   ],
   "source": [
    "# These are involved in the exponent.\n",
    "mu, sigma = 0.0, 1.0\n",
    "\n",
    "# Range of x values.\n",
    "x = np.linspace(-4.0, 4.0, 1000)\n",
    "\n",
    "# Plot of full e part of normal pdf.\n",
    "plt.plot(x, np.exp(-((x - mu)**2 / (2 * sigma**2))));"
   ]
  },
  {
   "cell_type": "markdown",
   "id": "f56568d3",
   "metadata": {},
   "source": [
    "Changing the value of $\\mu$ changes the position of the peak of the curve. Hence in `random.normal(loc=0.0, scale=1.0, size=None)`, *loc* denotes the position of the tip of the curve. "
   ]
  },
  {
   "cell_type": "code",
   "execution_count": 13,
   "id": "bc05f019",
   "metadata": {},
   "outputs": [
    {
     "data": {
      "image/png": "[encoded data removed]",
      "text/plain": [
       "<Figure size 432x288 with 1 Axes>"
      ]
     },
     "metadata": {
      "needs_background": "light"
     },
     "output_type": "display_data"
    }
   ],
   "source": [
    "# These are involved in the exponent.\n",
    "mu, sigma = 2.0, 1.0\n",
    "\n",
    "# Range of x values.\n",
    "x = np.linspace(-4.0, 4.0, 1000)\n",
    "\n",
    "# Plot of full e part of normal pdf.\n",
    "plt.plot(x, np.exp(-((x - mu)**2 / (2 * sigma**2))));"
   ]
  },
  {
   "cell_type": "code",
   "execution_count": 14,
   "id": "913eeae8",
   "metadata": {},
   "outputs": [
    {
     "data": {
      "image/png": "[encoded data removed]",
      "text/plain": [
       "<Figure size 432x288 with 1 Axes>"
      ]
     },
     "metadata": {
      "needs_background": "light"
     },
     "output_type": "display_data"
    }
   ],
   "source": [
    "# These are involved in the exponent.\n",
    "mu, sigma = 2.0, 1.0\n",
    "\n",
    "# Range of x values.\n",
    "x = np.linspace(-9.0, 9.0, 1000)\n",
    "\n",
    "for mu in [0.0, 1.0, 2.0]: \n",
    "# Plot of full e part of normal pdf.\n",
    "    plt.plot(x, np.exp(-((x - mu)**2 / (2 * sigma**2))), label=rf'$\\mu = {mu}$')\n",
    "\n",
    "# Plot legend\n",
    "plt.legend(); \n"
   ]
  },
  {
   "cell_type": "markdown",
   "id": "923494a6",
   "metadata": {},
   "source": [
    "Changing the value of $\\sigma$ changes the width/spread of the curve."
   ]
  },
  {
   "cell_type": "code",
   "execution_count": 15,
   "id": "99e07531",
   "metadata": {},
   "outputs": [
    {
     "data": {
      "image/png": "[encoded data removed]",
      "text/plain": [
       "<Figure size 432x288 with 1 Axes>"
      ]
     },
     "metadata": {
      "needs_background": "light"
     },
     "output_type": "display_data"
    }
   ],
   "source": [
    "# These are involved in the exponent.\n",
    "mu, sigma = 0.0, 2.0\n",
    "\n",
    "# Range of x values.\n",
    "x = np.linspace(-4.0, 4.0, 1000)\n",
    "\n",
    "# Plot of full e part of normal pdf.\n",
    "plt.plot(x, np.exp(-((x - mu)**2 / (2 * sigma**2))));"
   ]
  },
  {
   "cell_type": "markdown",
   "id": "4dafdb70",
   "metadata": {},
   "source": [
    "Changing the value of $\\sigma$ changes the width/spread of the curve.\n",
    "Hence in `random.normal(loc=0.0, scale=1.0, size=None)`, *scale* denotes $\\sigma$"
   ]
  },
  {
   "cell_type": "code",
   "execution_count": 16,
   "id": "403a0df3",
   "metadata": {},
   "outputs": [
    {
     "data": {
      "image/png": "[encoded data removed]",
      "text/plain": [
       "<Figure size 432x288 with 1 Axes>"
      ]
     },
     "metadata": {
      "needs_background": "light"
     },
     "output_type": "display_data"
    }
   ],
   "source": [
    "# These are involved in the exponent.\n",
    "mu, sigma = 0.0, 2.0\n",
    "\n",
    "# Range of x values.\n",
    "x = np.linspace(-9.0, 9.0, 1000)\n",
    "\n",
    "for sigma in [1.0, 2.0, 3.0]: \n",
    "# Plot of full e part of normal pdf.\n",
    "    plt.plot(x, np.exp(-((x - mu)**2 / (2 * sigma**2))), label=rf'$\\sigma = {sigma}$');\n",
    "    \n",
    "plt.legend();"
   ]
  },
  {
   "cell_type": "markdown",
   "id": "356e7d37",
   "metadata": {},
   "source": [
    "### Normal distribution altogether"
   ]
  },
  {
   "cell_type": "markdown",
   "id": "bc2a414a",
   "metadata": {},
   "source": [
    "$$ \\frac{1}{\\sqrt{2 \\pi \\sigma^2 }} e^{-\\frac{(x - \\mu)^2}{2 \\sigma^2}} $$\n"
   ]
  },
  {
   "cell_type": "code",
   "execution_count": 17,
   "id": "3e132942",
   "metadata": {},
   "outputs": [
    {
     "data": {
      "image/png": "[encoded data removed]",
      "text/plain": [
       "<Figure size 432x288 with 1 Axes>"
      ]
     },
     "metadata": {
      "needs_background": "light"
     },
     "output_type": "display_data"
    }
   ],
   "source": [
    "# Set mu and sigma.\n",
    "mu, sigma = 0.0, 1.0\n",
    "\n",
    "# Range of x values.\n",
    "x = np.linspace(-3.0, 3.0, 1000)\n",
    "\n",
    "# First part, with the square root.\n",
    "part1 = 1.0 / np.sqrt(2 * np.pi * sigma**2)\n",
    "# Second part, with the e.\n",
    "part2 = np.exp(-((x - mu)**2 / (2 * sigma**2)))\n",
    "# The output is the product.\n",
    "y = part1 * part2\n",
    "\n",
    "# Plot x and y.\n",
    "plt.plot(x, y, label='with')\n",
    "# Show without scaling by first part.\n",
    "plt.plot(x, part2, label='without')\n",
    "plt.title(\"Figure 10\")\n",
    "plt.legend();"
   ]
  },
  {
   "cell_type": "markdown",
   "id": "21f49ac6",
   "metadata": {},
   "source": [
    "The effect of part 1 is that is 'squishes' the orange curve so that the area of the blue curve is under 1. When you integrate the blue curve, the area will be under 1. Why would you want an area of under 1? \n",
    "\n",
    "Something with the probability of 1 is always going to happen."
   ]
  },
  {
   "cell_type": "code",
   "execution_count": 18,
   "id": "c9cd3c2a",
   "metadata": {},
   "outputs": [
    {
     "data": {
      "image/png": "[encoded data removed]",
      "text/plain": [
       "<Figure size 432x288 with 1 Axes>"
      ]
     },
     "metadata": {
      "needs_background": "light"
     },
     "output_type": "display_data"
    }
   ],
   "source": [
    "# Changing values of sigma.\n",
    "# Note that sigma occurs in part 1 and part 2.\n",
    "# So, the height of the curve is also affected.\n",
    "\n",
    "# Set initial mu and sigma.\n",
    "mu, sigma = 0.0, 1.0\n",
    "\n",
    "# Range of x values.\n",
    "x = np.linspace(-9.0, 9.0, 1000)\n",
    "\n",
    "# Different values of sigma.\n",
    "for sigma in [0.5, 1.0, 2.0, 4.5]:\n",
    "    # First part, with the square root.\n",
    "    part1 = 1.0 / np.sqrt(2 * np.pi * sigma**2)\n",
    "    # Second part, with the e.\n",
    "    part2 = np.exp(-((x - mu)**2 / (2 * sigma**2)))\n",
    "    # The output is the product.\n",
    "    y = part1 * part2\n",
    "    # Plot x and y.\n",
    "    plt.plot(x, y, label=rf'$\\sigma = {sigma}$')\n",
    "\n",
    "plt.legend();"
   ]
  },
  {
   "cell_type": "markdown",
   "id": "61c849b6",
   "metadata": {},
   "source": [
    "## Percentiles"
   ]
  },
  {
   "cell_type": "markdown",
   "id": "03e5ac19",
   "metadata": {},
   "source": [
    "Standard Normal distribution will never be 0 - continuous probability distribution but there is a chance that you will get extreme random values e.g. from a sample of 1,000,000 values with $\\mu$ = 0 and $\\sigma$ = 1.0, you could get 100 as a random value and it wouldn't be an outlier. \n",
    "\n",
    "Use Scipy for a more indepth look at the Normal distribution \n",
    "https://docs.scipy.org/doc/scipy/reference/generated/scipy.stats.norm.html"
   ]
  },
  {
   "cell_type": "code",
   "execution_count": 19,
   "id": "97efa0b6",
   "metadata": {},
   "outputs": [
    {
     "data": {
      "text/plain": [
       "1.113981763342921"
      ]
     },
     "execution_count": 19,
     "metadata": {},
     "output_type": "execute_result"
    }
   ],
   "source": [
    "# Picking random values on the curve.\n",
    "np.random.normal(0.0, 1.0)"
   ]
  },
  {
   "cell_type": "code",
   "execution_count": 20,
   "id": "729afdc8",
   "metadata": {},
   "outputs": [
    {
     "data": {
      "text/plain": [
       "4.996454796264076"
      ]
     },
     "execution_count": 20,
     "metadata": {},
     "output_type": "execute_result"
    }
   ],
   "source": [
    "# Picking random values on the curve - the max of 1000000.\n",
    "# Would you describe it as an outlier?\n",
    "np.random.normal(0.0, 1.0, 1000000).max()"
   ]
  },
  {
   "cell_type": "code",
   "execution_count": 21,
   "id": "d77337a0",
   "metadata": {},
   "outputs": [
    {
     "data": {
      "text/plain": [
       "2.3263478740408408"
      ]
     },
     "execution_count": 21,
     "metadata": {},
     "output_type": "execute_result"
    }
   ],
   "source": [
    "#Call the scipy norm and use ppf > Percent point function (inverse of cdf — percentiles).\n",
    "ss.norm().ppf(0.99)"
   ]
  },
  {
   "cell_type": "markdown",
   "id": "d22c11e4",
   "metadata": {},
   "source": [
    "0.99 or the 99th percentile indicates that 99% of the blue curve in Figure 10, is to the left of the 2.326. \n",
    "If you select a number randomly from this distribution, you have a 99% chance that it is going to be less than 2.326. \n",
    "\n",
    "\n",
    "Scipy.norm Methods\n",
    "\n",
    "https://docs.scipy.org/doc/scipy/reference/generated/scipy.stats.norm\n",
    "\n",
    "Percent point function (inverse of cdf — percentiles).\n",
    "`ppf(q, loc=0, scale=1)` where q is the lower tail probability\n",
    "https://docs.scipy.org/doc/scipy/reference/generated/scipy.stats.rv_continuous.ppf.html\n",
    "\n",
    "\n",
    "Cumulative distribution function.\n",
    "`cdf(x, loc=0, scale=1)` when you have a value and you want to know what percentile it falls \n",
    "\n",
    "See the different plots for pdf and cdg https://en.wikipedia.org/wiki/Normal_distribution"
   ]
  },
  {
   "cell_type": "code",
   "execution_count": 22,
   "id": "c80f782c",
   "metadata": {},
   "outputs": [
    {
     "data": {
      "text/plain": [
       "0.6914624612740131"
      ]
     },
     "execution_count": 22,
     "metadata": {},
     "output_type": "execute_result"
    }
   ],
   "source": [
    "#Try cdf, take a percentile i.e. a value between 0 and 1\n",
    "ss.norm().cdf(0.5)"
   ]
  },
  {
   "cell_type": "code",
   "execution_count": 23,
   "id": "9785cde5",
   "metadata": {},
   "outputs": [
    {
     "data": {
      "text/plain": [
       "0.9973002039367398"
      ]
     },
     "execution_count": 23,
     "metadata": {},
     "output_type": "execute_result"
    }
   ],
   "source": [
    "# The probability of generating a value less than 3.0 and greater than -3.0. \n",
    "# Cdf is the accumulation of probabilities moving across the x axis\n",
    "ss.norm().cdf(3.0) - ss.norm().cdf(-3.0)"
   ]
  },
  {
   "cell_type": "markdown",
   "id": "e4496611",
   "metadata": {},
   "source": [
    "In this instance, where $\\mu$ = 0 and $\\sigma$ = 1.0, the statement is asking for 3 standard deviations away from the mean. \n",
    "\n",
    "This always gives 99%. The criterion for a cut off when looking for an effect in statistics. \n",
    "\n",
    "Default settin for $\\mu$ = 0 and $\\sigma$ = 1.0\n"
   ]
  },
  {
   "cell_type": "code",
   "execution_count": 24,
   "id": "e9db4bac",
   "metadata": {},
   "outputs": [
    {
     "data": {
      "text/plain": [
       "0.9999999980268246"
      ]
     },
     "execution_count": 24,
     "metadata": {},
     "output_type": "execute_result"
    }
   ],
   "source": [
    "# Six sigma, where sigma is 1.0 and mu is 0.0.\n",
    "ss.norm().cdf(6.0) - ss.norm().cdf(-6.0)"
   ]
  },
  {
   "cell_type": "markdown",
   "id": "f9052f14",
   "metadata": {},
   "source": [
    "Considered rock solid...approaching 100%"
   ]
  },
  {
   "cell_type": "markdown",
   "id": "eab4aecc",
   "metadata": {},
   "source": [
    "## Quartiles\n",
    "***\n",
    "Useful way of dividing into ranges. \n",
    "Four regions dividing up by 3 values. "
   ]
  },
  {
   "cell_type": "code",
   "execution_count": 25,
   "id": "643f28d2",
   "metadata": {},
   "outputs": [
    {
     "data": {
      "text/plain": [
       "0.6744897501960817"
      ]
     },
     "execution_count": 25,
     "metadata": {},
     "output_type": "execute_result"
    }
   ],
   "source": [
    "# 3rd quartile - the 75th percentile.\n",
    "ss.norm().ppf(0.75)"
   ]
  },
  {
   "cell_type": "code",
   "execution_count": 26,
   "id": "41b6d3c6",
   "metadata": {},
   "outputs": [
    {
     "data": {
      "text/plain": [
       "0.0"
      ]
     },
     "execution_count": 26,
     "metadata": {},
     "output_type": "execute_result"
    }
   ],
   "source": [
    "# 2nd quartile - the 50th percentile.\n",
    "ss.norm().ppf(0.5)"
   ]
  },
  {
   "cell_type": "code",
   "execution_count": 27,
   "id": "a5bb398c",
   "metadata": {},
   "outputs": [
    {
     "data": {
      "text/plain": [
       "-0.6744897501960817"
      ]
     },
     "execution_count": 27,
     "metadata": {},
     "output_type": "execute_result"
    }
   ],
   "source": [
    "# 1st quartile - the 25th percentile.\n",
    "ss.norm().ppf(0.25)"
   ]
  },
  {
   "cell_type": "markdown",
   "id": "c7cdfc49",
   "metadata": {},
   "source": [
    "## Box Plots\n",
    "***\n",
    "Create box plots found on Wikipedia using Python. https://en.wikipedia.org/wiki/Box_plot Box plot on Wikipedia created using R. \n",
    "\n",
    "Good source of datasets which are built into R https://vincentarelbundock.github.io/Rdatasets/articles/data.html"
   ]
  },
  {
   "cell_type": "code",
   "execution_count": 28,
   "id": "eddf1e7a",
   "metadata": {},
   "outputs": [
    {
     "data": {
      "text/plain": [
       "array([[1.00e+00, 1.00e+00, 8.50e+02],\n",
       "       [1.00e+00, 2.00e+00, 7.40e+02],\n",
       "       [1.00e+00, 3.00e+00, 9.00e+02],\n",
       "       [1.00e+00, 4.00e+00, 1.07e+03],\n",
       "       [1.00e+00, 5.00e+00, 9.30e+02],\n",
       "       [1.00e+00, 6.00e+00, 8.50e+02],\n",
       "       [1.00e+00, 7.00e+00, 9.50e+02],\n",
       "       [1.00e+00, 8.00e+00, 9.80e+02],\n",
       "       [1.00e+00, 9.00e+00, 9.80e+02],\n",
       "       [1.00e+00, 1.00e+01, 8.80e+02],\n",
       "       [1.00e+00, 1.10e+01, 1.00e+03],\n",
       "       [1.00e+00, 1.20e+01, 9.80e+02],\n",
       "       [1.00e+00, 1.30e+01, 9.30e+02],\n",
       "       [1.00e+00, 1.40e+01, 6.50e+02],\n",
       "       [1.00e+00, 1.50e+01, 7.60e+02],\n",
       "       [1.00e+00, 1.60e+01, 8.10e+02],\n",
       "       [1.00e+00, 1.70e+01, 1.00e+03],\n",
       "       [1.00e+00, 1.80e+01, 1.00e+03],\n",
       "       [1.00e+00, 1.90e+01, 9.60e+02],\n",
       "       [1.00e+00, 2.00e+01, 9.60e+02],\n",
       "       [2.00e+00, 1.00e+00, 9.60e+02],\n",
       "       [2.00e+00, 2.00e+00, 9.40e+02],\n",
       "       [2.00e+00, 3.00e+00, 9.60e+02],\n",
       "       [2.00e+00, 4.00e+00, 9.40e+02],\n",
       "       [2.00e+00, 5.00e+00, 8.80e+02],\n",
       "       [2.00e+00, 6.00e+00, 8.00e+02],\n",
       "       [2.00e+00, 7.00e+00, 8.50e+02],\n",
       "       [2.00e+00, 8.00e+00, 8.80e+02],\n",
       "       [2.00e+00, 9.00e+00, 9.00e+02],\n",
       "       [2.00e+00, 1.00e+01, 8.40e+02],\n",
       "       [2.00e+00, 1.10e+01, 8.30e+02],\n",
       "       [2.00e+00, 1.20e+01, 7.90e+02],\n",
       "       [2.00e+00, 1.30e+01, 8.10e+02],\n",
       "       [2.00e+00, 1.40e+01, 8.80e+02],\n",
       "       [2.00e+00, 1.50e+01, 8.80e+02],\n",
       "       [2.00e+00, 1.60e+01, 8.30e+02],\n",
       "       [2.00e+00, 1.70e+01, 8.00e+02],\n",
       "       [2.00e+00, 1.80e+01, 7.90e+02],\n",
       "       [2.00e+00, 1.90e+01, 7.60e+02],\n",
       "       [2.00e+00, 2.00e+01, 8.00e+02],\n",
       "       [3.00e+00, 1.00e+00, 8.80e+02],\n",
       "       [3.00e+00, 2.00e+00, 8.80e+02],\n",
       "       [3.00e+00, 3.00e+00, 8.80e+02],\n",
       "       [3.00e+00, 4.00e+00, 8.60e+02],\n",
       "       [3.00e+00, 5.00e+00, 7.20e+02],\n",
       "       [3.00e+00, 6.00e+00, 7.20e+02],\n",
       "       [3.00e+00, 7.00e+00, 6.20e+02],\n",
       "       [3.00e+00, 8.00e+00, 8.60e+02],\n",
       "       [3.00e+00, 9.00e+00, 9.70e+02],\n",
       "       [3.00e+00, 1.00e+01, 9.50e+02],\n",
       "       [3.00e+00, 1.10e+01, 8.80e+02],\n",
       "       [3.00e+00, 1.20e+01, 9.10e+02],\n",
       "       [3.00e+00, 1.30e+01, 8.50e+02],\n",
       "       [3.00e+00, 1.40e+01, 8.70e+02],\n",
       "       [3.00e+00, 1.50e+01, 8.40e+02],\n",
       "       [3.00e+00, 1.60e+01, 8.40e+02],\n",
       "       [3.00e+00, 1.70e+01, 8.50e+02],\n",
       "       [3.00e+00, 1.80e+01, 8.40e+02],\n",
       "       [3.00e+00, 1.90e+01, 8.40e+02],\n",
       "       [3.00e+00, 2.00e+01, 8.40e+02],\n",
       "       [4.00e+00, 1.00e+00, 8.90e+02],\n",
       "       [4.00e+00, 2.00e+00, 8.10e+02],\n",
       "       [4.00e+00, 3.00e+00, 8.10e+02],\n",
       "       [4.00e+00, 4.00e+00, 8.20e+02],\n",
       "       [4.00e+00, 5.00e+00, 8.00e+02],\n",
       "       [4.00e+00, 6.00e+00, 7.70e+02],\n",
       "       [4.00e+00, 7.00e+00, 7.60e+02],\n",
       "       [4.00e+00, 8.00e+00, 7.40e+02],\n",
       "       [4.00e+00, 9.00e+00, 7.50e+02],\n",
       "       [4.00e+00, 1.00e+01, 7.60e+02],\n",
       "       [4.00e+00, 1.10e+01, 9.10e+02],\n",
       "       [4.00e+00, 1.20e+01, 9.20e+02],\n",
       "       [4.00e+00, 1.30e+01, 8.90e+02],\n",
       "       [4.00e+00, 1.40e+01, 8.60e+02],\n",
       "       [4.00e+00, 1.50e+01, 8.80e+02],\n",
       "       [4.00e+00, 1.60e+01, 7.20e+02],\n",
       "       [4.00e+00, 1.70e+01, 8.40e+02],\n",
       "       [4.00e+00, 1.80e+01, 8.50e+02],\n",
       "       [4.00e+00, 1.90e+01, 8.50e+02],\n",
       "       [4.00e+00, 2.00e+01, 7.80e+02],\n",
       "       [5.00e+00, 1.00e+00, 8.90e+02],\n",
       "       [5.00e+00, 2.00e+00, 8.40e+02],\n",
       "       [5.00e+00, 3.00e+00, 7.80e+02],\n",
       "       [5.00e+00, 4.00e+00, 8.10e+02],\n",
       "       [5.00e+00, 5.00e+00, 7.60e+02],\n",
       "       [5.00e+00, 6.00e+00, 8.10e+02],\n",
       "       [5.00e+00, 7.00e+00, 7.90e+02],\n",
       "       [5.00e+00, 8.00e+00, 8.10e+02],\n",
       "       [5.00e+00, 9.00e+00, 8.20e+02],\n",
       "       [5.00e+00, 1.00e+01, 8.50e+02],\n",
       "       [5.00e+00, 1.10e+01, 8.70e+02],\n",
       "       [5.00e+00, 1.20e+01, 8.70e+02],\n",
       "       [5.00e+00, 1.30e+01, 8.10e+02],\n",
       "       [5.00e+00, 1.40e+01, 7.40e+02],\n",
       "       [5.00e+00, 1.50e+01, 8.10e+02],\n",
       "       [5.00e+00, 1.60e+01, 9.40e+02],\n",
       "       [5.00e+00, 1.70e+01, 9.50e+02],\n",
       "       [5.00e+00, 1.80e+01, 8.00e+02],\n",
       "       [5.00e+00, 1.90e+01, 8.10e+02],\n",
       "       [5.00e+00, 2.00e+01, 8.70e+02]])"
      ]
     },
     "execution_count": 28,
     "metadata": {},
     "output_type": "execute_result"
    }
   ],
   "source": [
    "# Read in the morley data.\n",
    "data = np.genfromtxt('data/morley.csv', skip_header=1, delimiter=',', deletechars='\"')\n",
    "\n",
    "# Remove the first column.\n",
    "data = data[:,1:] #array within an array. First : > take everything, second 1: > skip first column\n",
    "data"
   ]
  },
  {
   "cell_type": "markdown",
   "id": "ea412698",
   "metadata": {},
   "source": [
    "Column 3 are the speed of light measurements which are on the box plot on Wikipedia\n",
    "https://stat.ethz.ch/R-manual/R-devel/library/datasets/html/morley.html"
   ]
  },
  {
   "cell_type": "code",
   "execution_count": 29,
   "id": "69b5c3c8",
   "metadata": {},
   "outputs": [
    {
     "data": {
      "text/plain": [
       "array([ 850.,  740.,  900., 1070.,  930.,  850.,  950.,  980.,  980.,\n",
       "        880., 1000.,  980.,  930.,  650.,  760.,  810., 1000., 1000.,\n",
       "        960.,  960.])"
      ]
     },
     "execution_count": 29,
     "metadata": {},
     "output_type": "execute_result"
    }
   ],
   "source": [
    "# Select the data for the first experiment\n",
    "exper_1 = data[:20, 2] # first 20 rows and variable 2 (in position 3)\n",
    "exper_1"
   ]
  },
  {
   "cell_type": "code",
   "execution_count": 30,
   "id": "436e3762",
   "metadata": {},
   "outputs": [
    {
     "data": {
      "text/plain": [
       "array([960., 940., 960., 940., 880., 800., 850., 880., 900., 840., 830.,\n",
       "       790., 810., 880., 880., 830., 800., 790., 760., 800.])"
      ]
     },
     "execution_count": 30,
     "metadata": {},
     "output_type": "execute_result"
    }
   ],
   "source": [
    "# Select the data for the second experiment\n",
    "exper_2 = data[20:40, 2] # first 20 rows and variable 2 (in position 3)\n",
    "exper_2"
   ]
  },
  {
   "cell_type": "code",
   "execution_count": 31,
   "id": "a9272cb0",
   "metadata": {},
   "outputs": [
    {
     "data": {
      "image/png": "[encoded data removed]",
      "text/plain": [
       "<Figure size 432x288 with 1 Axes>"
      ]
     },
     "metadata": {
      "needs_background": "light"
     },
     "output_type": "display_data"
    }
   ],
   "source": [
    "# Create a box plot of 2 experiments\n",
    "plt.boxplot(np.array([exper_1, exper_2]).T); #creates a new numpy area, wrapped in a list to create a new array. \n",
    "# exper_1 and exper_2 is row 1 and row 2 but matplot lib wants it the other way around so use .T to transpose"
   ]
  },
  {
   "cell_type": "code",
   "execution_count": 32,
   "id": "d0316057",
   "metadata": {},
   "outputs": [
    {
     "data": {
      "text/plain": [
       "array([[ 850.,  960.,  880.,  890.,  890.],\n",
       "       [ 740.,  940.,  880.,  810.,  840.],\n",
       "       [ 900.,  960.,  880.,  810.,  780.],\n",
       "       [1070.,  940.,  860.,  820.,  810.],\n",
       "       [ 930.,  880.,  720.,  800.,  760.],\n",
       "       [ 850.,  800.,  720.,  770.,  810.],\n",
       "       [ 950.,  850.,  620.,  760.,  790.],\n",
       "       [ 980.,  880.,  860.,  740.,  810.],\n",
       "       [ 980.,  900.,  970.,  750.,  820.],\n",
       "       [ 880.,  840.,  950.,  760.,  850.],\n",
       "       [1000.,  830.,  880.,  910.,  870.],\n",
       "       [ 980.,  790.,  910.,  920.,  870.],\n",
       "       [ 930.,  810.,  850.,  890.,  810.],\n",
       "       [ 650.,  880.,  870.,  860.,  740.],\n",
       "       [ 760.,  880.,  840.,  880.,  810.],\n",
       "       [ 810.,  830.,  840.,  720.,  940.],\n",
       "       [1000.,  800.,  850.,  840.,  950.],\n",
       "       [1000.,  790.,  840.,  850.,  800.],\n",
       "       [ 960.,  760.,  840.,  850.,  810.],\n",
       "       [ 960.,  800.,  840.,  780.,  870.]])"
      ]
     },
     "execution_count": 32,
     "metadata": {},
     "output_type": "execute_result"
    }
   ],
   "source": [
    "# A quick way to get the five experiments\n",
    "data[:,2].reshape(5,20).T"
   ]
  },
  {
   "cell_type": "markdown",
   "id": "53360c12",
   "metadata": {},
   "source": [
    "## The Interquartile range\n",
    "A boxplot is a standardized way of displaying the dataset based on the five-number summary: the minimum, the maximum, the sample median, and the first and third quartiles.\n",
    "\n",
    "https://en.wikipedia.org/wiki/Box_plot#Elements"
   ]
  },
  {
   "cell_type": "code",
   "execution_count": 33,
   "id": "22bfea72",
   "metadata": {},
   "outputs": [
    {
     "data": {
      "text/plain": [
       "array([ 850.,  740.,  900., 1070.,  930.,  850.,  950.,  980.,  980.,\n",
       "        880., 1000.,  980.,  930.,  650.,  760.,  810., 1000., 1000.,\n",
       "        960.,  960.])"
      ]
     },
     "execution_count": 33,
     "metadata": {},
     "output_type": "execute_result"
    }
   ],
   "source": [
    "exper_1"
   ]
  },
  {
   "cell_type": "code",
   "execution_count": 34,
   "id": "0a8dd874",
   "metadata": {},
   "outputs": [
    {
     "data": {
      "image/png": "[encoded data removed]",
      "text/plain": [
       "<Figure size 432x288 with 1 Axes>"
      ]
     },
     "metadata": {
      "needs_background": "light"
     },
     "output_type": "display_data"
    }
   ],
   "source": [
    "# Create a figure.\n",
    "fig, ax = plt.subplots()\n",
    "\n",
    "# Add the boxplot.\n",
    "ax.boxplot(exper_1)\n",
    "\n",
    "# Plots red dots at (1, value) for each value in exper_1.\n",
    "# https://numpy.org/doc/stable/reference/generated/numpy.ones.html\n",
    "ax.plot(np.ones(exper_1.shape), exper_1, 'r.');"
   ]
  },
  {
   "cell_type": "code",
   "execution_count": 35,
   "id": "c446d868",
   "metadata": {},
   "outputs": [
    {
     "data": {
      "text/plain": [
       "array([ 650.,  740.,  760.,  810.,  850.,  850.,  880.,  900.,  930.,\n",
       "        930.,  950.,  960.,  960.,  980.,  980.,  980., 1000., 1000.,\n",
       "       1000., 1070.])"
      ]
     },
     "execution_count": 35,
     "metadata": {},
     "output_type": "execute_result"
    }
   ],
   "source": [
    "# Median\n",
    "np.sort(exper_1)"
   ]
  },
  {
   "cell_type": "markdown",
   "id": "72418520",
   "metadata": {},
   "source": [
    "What is the median of a dataset? The middle value of a dataset. \n",
    "Half the values in a dataset are below the median and half the values are above the median. \n",
    "The median is the 50th percentile, 50% the numbers are below the 50th percentile\n",
    "Also known as **Q2**"
   ]
  },
  {
   "cell_type": "code",
   "execution_count": 36,
   "id": "3d0aea5b",
   "metadata": {},
   "outputs": [
    {
     "data": {
      "text/plain": [
       "940.0"
      ]
     },
     "execution_count": 36,
     "metadata": {},
     "output_type": "execute_result"
    }
   ],
   "source": [
    "# Median of exper_1. Indicated by orange line on the box plot. \n",
    "np.median(exper_1)"
   ]
  },
  {
   "cell_type": "code",
   "execution_count": 37,
   "id": "b91dd18a",
   "metadata": {},
   "outputs": [
    {
     "data": {
      "text/plain": [
       "940.0"
      ]
     },
     "execution_count": 37,
     "metadata": {},
     "output_type": "execute_result"
    }
   ],
   "source": [
    "# The median is the 50th percentile\n",
    "np.percentile(exper_1, 50)"
   ]
  },
  {
   "cell_type": "code",
   "execution_count": 38,
   "id": "b2524518",
   "metadata": {},
   "outputs": [
    {
     "data": {
      "text/plain": [
       "(909.0, 909.0, 909.0)"
      ]
     },
     "execution_count": 38,
     "metadata": {},
     "output_type": "execute_result"
    }
   ],
   "source": [
    "# Mean of exper_1 - three wayss\n",
    "exper_1.mean(), np.mean(exper_1), sum(exper_1) / len(exper_1)"
   ]
  },
  {
   "cell_type": "code",
   "execution_count": 39,
   "id": "ef318005",
   "metadata": {},
   "outputs": [
    {
     "data": {
      "text/plain": [
       "980.0"
      ]
     },
     "execution_count": 39,
     "metadata": {},
     "output_type": "execute_result"
    }
   ],
   "source": [
    "# Upper quartile value. \n",
    "q3 = np.percentile(exper_1, 75)\n",
    "q3"
   ]
  },
  {
   "cell_type": "code",
   "execution_count": 40,
   "id": "1b25ec0b",
   "metadata": {},
   "outputs": [
    {
     "data": {
      "text/plain": [
       "980.0"
      ]
     },
     "execution_count": 40,
     "metadata": {},
     "output_type": "execute_result"
    }
   ],
   "source": [
    "# Median of top half of the values\n",
    "np.median(np.sort(exper_1)[10:])"
   ]
  },
  {
   "cell_type": "markdown",
   "id": "db81c52e",
   "metadata": {},
   "source": [
    "The 75th percentile and the median of the top half of the dataset coincide\n",
    "\n",
    "Also known as **Q3** or upper quartile"
   ]
  },
  {
   "cell_type": "code",
   "execution_count": 41,
   "id": "9ea6982e",
   "metadata": {},
   "outputs": [
    {
     "data": {
      "text/plain": [
       "850.0"
      ]
     },
     "execution_count": 41,
     "metadata": {},
     "output_type": "execute_result"
    }
   ],
   "source": [
    "# Lower quartile value. \n",
    "q1 = np.percentile(exper_1, 25)\n",
    "q1"
   ]
  },
  {
   "cell_type": "code",
   "execution_count": 42,
   "id": "8c20e583",
   "metadata": {},
   "outputs": [
    {
     "data": {
      "text/plain": [
       "850.0"
      ]
     },
     "execution_count": 42,
     "metadata": {},
     "output_type": "execute_result"
    }
   ],
   "source": [
    "# Median of lower half of the values\n",
    "np.median(np.sort(exper_1)[:10])"
   ]
  },
  {
   "cell_type": "markdown",
   "id": "6566d6b8",
   "metadata": {},
   "source": [
    "The 25th percentile and the median of the lower half of the dataset coincide\n",
    "\n",
    "Also known as **Q1** or lower quartile"
   ]
  },
  {
   "cell_type": "code",
   "execution_count": 43,
   "id": "33004e22",
   "metadata": {},
   "outputs": [
    {
     "data": {
      "text/plain": [
       "130.0"
      ]
     },
     "execution_count": 43,
     "metadata": {},
     "output_type": "execute_result"
    }
   ],
   "source": [
    "# Inter-quartile range\n",
    "# iqr = np.percentile(exper_1, 75) - np.percentile(exper_1, 25)\n",
    "iqr = q3 - q1\n",
    "iqr"
   ]
  },
  {
   "cell_type": "code",
   "execution_count": 44,
   "id": "94296bb9",
   "metadata": {},
   "outputs": [
    {
     "data": {
      "text/plain": [
       "1110.0"
      ]
     },
     "execution_count": 44,
     "metadata": {},
     "output_type": "execute_result"
    }
   ],
   "source": [
    "# Max \n",
    "Max = q3 + iqr\n",
    "Max"
   ]
  },
  {
   "cell_type": "code",
   "execution_count": 45,
   "id": "06db1b0d",
   "metadata": {},
   "outputs": [
    {
     "data": {
      "text/plain": [
       "720.0"
      ]
     },
     "execution_count": 45,
     "metadata": {},
     "output_type": "execute_result"
    }
   ],
   "source": [
    "# Min \n",
    "Min = q1 - iqr\n",
    "Min"
   ]
  },
  {
   "cell_type": "code",
   "execution_count": 46,
   "id": "2a35db2c",
   "metadata": {},
   "outputs": [
    {
     "data": {
      "image/png": "[encoded data removed]",
      "text/plain": [
       "<Figure size 432x288 with 1 Axes>"
      ]
     },
     "metadata": {
      "needs_background": "light"
     },
     "output_type": "display_data"
    }
   ],
   "source": [
    "# Create a figure.\n",
    "fig, ax = plt.subplots()\n",
    "\n",
    "# Add the boxplot.\n",
    "ax.boxplot(exper_1)\n",
    "\n",
    "# Plots red dots at (1, value) for each value in exper_1.\n",
    "ax.plot(np.ones(exper_1.shape), exper_1, 'r.')\n",
    "\n",
    "# Add the max whisker lengths.\n",
    "ax.plot([1.0, 1.0], [q1 - (iqr), q3 + (iqr)], 'bx'); # Should the iqr be multiplied by 1.5? "
   ]
  },
  {
   "cell_type": "markdown",
   "id": "32c2ff1b",
   "metadata": {},
   "source": [
    "The outlier is beyond 1.5 times the IQR of this dataset. "
   ]
  },
  {
   "cell_type": "markdown",
   "id": "24e66ed6",
   "metadata": {},
   "source": [
    "## Exercise 1\n",
    "***\n",
    "\n",
    "Create box plots on a single set of axes for all five experiments in the Morley data set.\n",
    "\n"
   ]
  },
  {
   "cell_type": "code",
   "execution_count": 47,
   "id": "32e0caba",
   "metadata": {},
   "outputs": [
    {
     "data": {
      "image/png": "[encoded data removed]",
      "text/plain": [
       "<Figure size 432x288 with 1 Axes>"
      ]
     },
     "metadata": {
      "needs_background": "light"
     },
     "output_type": "display_data"
    }
   ],
   "source": [
    "# Read in the morley data.\n",
    "data = np.genfromtxt('data/morley.csv', skip_header=1, delimiter=',', deletechars='\"')\n",
    "\n",
    "# Remove the first column.\n",
    "data = data[:,1:] \n",
    "\n",
    "# A quick way to get the five experiments\n",
    "tdata = data[:,2].reshape(5,20).T\n",
    "\n",
    "# Select the data for the first experiment\n",
    "exp_1 = tdata[:20, 0]\n",
    "\n",
    "# Select the data for the second experiment\n",
    "exp_2 = tdata[:20, 1]\n",
    "\n",
    "# Select the data for the third experiment\n",
    "exp_3 = tdata[:20, 2]\n",
    "\n",
    "# Select the data for the fourth experiment\n",
    "exp_4 = tdata[:20, 3]\n",
    "\n",
    "# Select the data for the fifth experiment\n",
    "exp_5 = tdata[:20, 4]\n",
    "\n",
    "\n",
    "# Create a box plot of 5 experiments\n",
    "plt.boxplot(np.array([exp_1, exp_2, exp_3, exp_4, exp_5]).T); \n",
    "\n",
    "# Specifying horizontal line for true speed of light \n",
    "# Speed of light = 299,792.458 km/s - 299,000 km/s)\n",
    "plt.axhline(y = 792.458, color = 'r', linestyle = '-', label = 'true speed');\n",
    "\n",
    "# label the plot\n",
    "# https://www.w3schools.com/python/matplotlib_labels.asp\n",
    "plt.title(\"Box plot of the Michelson–Morley experiment\");\n",
    "plt.xlabel(\"Experiment No.\");\n",
    "plt.ylabel(\"Speed of light (km/s minus 299,000)\");\n",
    "plt.legend(); \n",
    "# https://stackoverflow.com/questions/31950456/python-axhline-label-not-showing-up-in-plot"
   ]
  },
  {
   "cell_type": "markdown",
   "id": "9c310d39",
   "metadata": {},
   "source": [
    "## Exercise 2\n",
    "***\n",
    "\n",
    "Create box plots for all of the numercial variables in Fisher's Iris Data Set."
   ]
  },
  {
   "cell_type": "code",
   "execution_count": 48,
   "id": "13d4396b",
   "metadata": {},
   "outputs": [
    {
     "data": {
      "text/html": [
       "<div>\n",
       "<style scoped>\n",
       "    .dataframe tbody tr th:only-of-type {\n",
       "        vertical-align: middle;\n",
       "    }\n",
       "\n",
       "    .dataframe tbody tr th {\n",
       "        vertical-align: top;\n",
       "    }\n",
       "\n",
       "    .dataframe thead th {\n",
       "        text-align: right;\n",
       "    }\n",
       "</style>\n",
       "<table border=\"1\" class=\"dataframe\">\n",
       "  <thead>\n",
       "    <tr style=\"text-align: right;\">\n",
       "      <th></th>\n",
       "      <th>sepal_length</th>\n",
       "      <th>sepal_width</th>\n",
       "      <th>petal_length</th>\n",
       "      <th>petal_width</th>\n",
       "      <th>species</th>\n",
       "    </tr>\n",
       "  </thead>\n",
       "  <tbody>\n",
       "    <tr>\n",
       "      <th>0</th>\n",
       "      <td>5.1</td>\n",
       "      <td>3.5</td>\n",
       "      <td>1.4</td>\n",
       "      <td>0.2</td>\n",
       "      <td>Iris-setosa</td>\n",
       "    </tr>\n",
       "    <tr>\n",
       "      <th>1</th>\n",
       "      <td>4.9</td>\n",
       "      <td>3.0</td>\n",
       "      <td>1.4</td>\n",
       "      <td>0.2</td>\n",
       "      <td>Iris-setosa</td>\n",
       "    </tr>\n",
       "    <tr>\n",
       "      <th>2</th>\n",
       "      <td>4.7</td>\n",
       "      <td>3.2</td>\n",
       "      <td>1.3</td>\n",
       "      <td>0.2</td>\n",
       "      <td>Iris-setosa</td>\n",
       "    </tr>\n",
       "    <tr>\n",
       "      <th>3</th>\n",
       "      <td>4.6</td>\n",
       "      <td>3.1</td>\n",
       "      <td>1.5</td>\n",
       "      <td>0.2</td>\n",
       "      <td>Iris-setosa</td>\n",
       "    </tr>\n",
       "    <tr>\n",
       "      <th>4</th>\n",
       "      <td>5.0</td>\n",
       "      <td>3.6</td>\n",
       "      <td>1.4</td>\n",
       "      <td>0.2</td>\n",
       "      <td>Iris-setosa</td>\n",
       "    </tr>\n",
       "    <tr>\n",
       "      <th>...</th>\n",
       "      <td>...</td>\n",
       "      <td>...</td>\n",
       "      <td>...</td>\n",
       "      <td>...</td>\n",
       "      <td>...</td>\n",
       "    </tr>\n",
       "    <tr>\n",
       "      <th>145</th>\n",
       "      <td>6.7</td>\n",
       "      <td>3.0</td>\n",
       "      <td>5.2</td>\n",
       "      <td>2.3</td>\n",
       "      <td>Iris-virginica</td>\n",
       "    </tr>\n",
       "    <tr>\n",
       "      <th>146</th>\n",
       "      <td>6.3</td>\n",
       "      <td>2.5</td>\n",
       "      <td>5.0</td>\n",
       "      <td>1.9</td>\n",
       "      <td>Iris-virginica</td>\n",
       "    </tr>\n",
       "    <tr>\n",
       "      <th>147</th>\n",
       "      <td>6.5</td>\n",
       "      <td>3.0</td>\n",
       "      <td>5.2</td>\n",
       "      <td>2.0</td>\n",
       "      <td>Iris-virginica</td>\n",
       "    </tr>\n",
       "    <tr>\n",
       "      <th>148</th>\n",
       "      <td>6.2</td>\n",
       "      <td>3.4</td>\n",
       "      <td>5.4</td>\n",
       "      <td>2.3</td>\n",
       "      <td>Iris-virginica</td>\n",
       "    </tr>\n",
       "    <tr>\n",
       "      <th>149</th>\n",
       "      <td>5.9</td>\n",
       "      <td>3.0</td>\n",
       "      <td>5.1</td>\n",
       "      <td>1.8</td>\n",
       "      <td>Iris-virginica</td>\n",
       "    </tr>\n",
       "  </tbody>\n",
       "</table>\n",
       "<p>150 rows × 5 columns</p>\n",
       "</div>"
      ],
      "text/plain": [
       "     sepal_length  sepal_width  petal_length  petal_width         species\n",
       "0             5.1          3.5           1.4          0.2     Iris-setosa\n",
       "1             4.9          3.0           1.4          0.2     Iris-setosa\n",
       "2             4.7          3.2           1.3          0.2     Iris-setosa\n",
       "3             4.6          3.1           1.5          0.2     Iris-setosa\n",
       "4             5.0          3.6           1.4          0.2     Iris-setosa\n",
       "..            ...          ...           ...          ...             ...\n",
       "145           6.7          3.0           5.2          2.3  Iris-virginica\n",
       "146           6.3          2.5           5.0          1.9  Iris-virginica\n",
       "147           6.5          3.0           5.2          2.0  Iris-virginica\n",
       "148           6.2          3.4           5.4          2.3  Iris-virginica\n",
       "149           5.9          3.0           5.1          1.8  Iris-virginica\n",
       "\n",
       "[150 rows x 5 columns]"
      ]
     },
     "execution_count": 48,
     "metadata": {},
     "output_type": "execute_result"
    }
   ],
   "source": [
    "# Read in Fisher's Iris data set\n",
    "from fileinput import filename\n",
    "# The original dataset was found to have a number of errors and has been updated by Bezdek et al.\n",
    "filename = 'https://archive.ics.uci.edu/ml/machine-learning-databases/iris/bezdekIris.data'\n",
    "# Read in the data to a dataframe\n",
    "df = pd.read_csv(filename, names = [\"sepal_length\", \"sepal_width\", \"petal_length\", \"petal_width\", \"species\"])\n",
    "df"
   ]
  },
  {
   "cell_type": "code",
   "execution_count": 49,
   "id": "572975aa",
   "metadata": {},
   "outputs": [
    {
     "data": {
      "image/png": "[encoded data removed]",
      "text/plain": [
       "<Figure size 432x288 with 1 Axes>"
      ]
     },
     "metadata": {
      "needs_background": "light"
     },
     "output_type": "display_data"
    }
   ],
   "source": [
    "# Use seaborn to create box plots from the dataframe\n",
    "#sns.set_theme(style=\"ticks\", palette=\"pastel\") # configure plot style\n",
    "sns.boxplot(data=df) # create box plot from dataframe\n",
    "plt.title(\"Box plot for numerical variables in Fisher's Iris data set\", weight = \"bold\") # Title for the plot\n",
    "sns.despine(offset=10, trim=True) # removes top and right spines from the plot\n",
    "plt.show() # show plot"
   ]
  },
  {
   "cell_type": "markdown",
   "id": "b0d02fd4",
   "metadata": {},
   "source": [
    "## A Data set"
   ]
  },
  {
   "cell_type": "code",
   "execution_count": 70,
   "id": "fb733363",
   "metadata": {},
   "outputs": [],
   "source": [
    "# Create a series of x vectors.\n",
    "xs = np.array([np.linspace(i, i + 2.0, 20) for i in range(1,10)])"
   ]
  },
  {
   "cell_type": "code",
   "execution_count": 71,
   "id": "19db3618",
   "metadata": {},
   "outputs": [],
   "source": [
    "# Create a corresponding series of y vectors.\n",
    "ys = np.array([-1.0 * xs[i] + 2 * i for i in range(len(xs))])\n",
    "\n",
    "# Add some noise.\n",
    "ys = ys + np.random.normal(0.0, 1.0, ys.shape)\n"
   ]
  },
  {
   "cell_type": "code",
   "execution_count": 52,
   "id": "d6c19ddc",
   "metadata": {},
   "outputs": [],
   "source": [
    "# Create global list of x and y values.\n",
    "x = xs.flatten()\n",
    "y = ys.flatten()"
   ]
  },
  {
   "cell_type": "code",
   "execution_count": 60,
   "id": "4695ea13",
   "metadata": {},
   "outputs": [
    {
     "data": {
      "image/png": "[encoded data removed]",
      "text/plain": [
       "<Figure size 864x432 with 1 Axes>"
      ]
     },
     "metadata": {
      "needs_background": "light"
     },
     "output_type": "display_data"
    }
   ],
   "source": [
    "# Plot.\n",
    "plt.plot(x, y, '.');"
   ]
  },
  {
   "cell_type": "markdown",
   "id": "0e285726",
   "metadata": {},
   "source": [
    "## Line of best fit"
   ]
  },
  {
   "cell_type": "markdown",
   "id": "85447dcd",
   "metadata": {},
   "source": [
    "\n",
    "$ y = mx + c$\n",
    "\n",
    "Measure vertical distance of each of the points to the line of best fit. Easier to measure vertical than perpendicular. \n",
    "Assume the error is in the y values, not the x values\n"
   ]
  },
  {
   "cell_type": "code",
   "execution_count": 67,
   "id": "dd68a771",
   "metadata": {},
   "outputs": [],
   "source": [
    "# Best fit line slope and y intercept.\n",
    "m, c = np.polyfit(x, y, 1)"
   ]
  },
  {
   "cell_type": "code",
   "execution_count": 68,
   "id": "ac0dc7ef",
   "metadata": {},
   "outputs": [],
   "source": [
    "# Create a steadily increasing x range for plotting.\n",
    "xbestfit = np.linspace(x.min(), x.max(), 1000)\n",
    "\n",
    "# Create corresponding y values form best fit line.\n",
    "ybestfit = m * (xbestfit) + c"
   ]
  },
  {
   "cell_type": "code",
   "execution_count": 69,
   "id": "7b4bb9c4",
   "metadata": {},
   "outputs": [
    {
     "data": {
      "image/png": "[encoded data removed]",
      "text/plain": [
       "<Figure size 864x432 with 1 Axes>"
      ]
     },
     "metadata": {
      "needs_background": "light"
     },
     "output_type": "display_data"
    }
   ],
   "source": [
    "# Plot points.\n",
    "plt.plot(x, y, '.')\n",
    "\n",
    "# Plot line.\n",
    "plt.plot(xbestfit, ybestfit);"
   ]
  },
  {
   "cell_type": "markdown",
   "id": "0c744f5b",
   "metadata": {},
   "source": [
    "The trend of the plot seems that the data goes from bottom to top. \n",
    "\n",
    "Removing the outlier could impact on the best fit line because we square the distance. The effect of the outlier 3 units away from line is much larger than the value 1 unit away from line when we square the distance. "
   ]
  },
  {
   "cell_type": "code",
   "execution_count": 63,
   "id": "899e2f99",
   "metadata": {},
   "outputs": [
    {
     "data": {
      "image/png": "[encoded data removed]",
      "text/plain": [
       "<Figure size 864x432 with 1 Axes>"
      ]
     },
     "metadata": {
      "needs_background": "light"
     },
     "output_type": "display_data"
    }
   ],
   "source": [
    "# Plot the same points, but now with a different colour for each range.\n",
    "for i in range(len(xs)):\n",
    "    plt.plot(xs[i], ys[i], '.')"
   ]
  },
  {
   "cell_type": "markdown",
   "id": "295dec99",
   "metadata": {},
   "source": [
    "The data points belong to different categories. There is a 3rd variable at play. There is segmenting which was not obvious in the first plot when the data was combined \n",
    "In second plot, it becomes apparent that there is an inverse relationship at play which was not obvious when the data was combined \n",
    "Simpson's paradox, a cautionary tale regarding outliers. \n"
   ]
  },
  {
   "cell_type": "code",
   "execution_count": 64,
   "id": "2bd05b88",
   "metadata": {},
   "outputs": [
    {
     "data": {
      "image/png": "[encoded data removed]",
      "text/plain": [
       "<Figure size 864x432 with 1 Axes>"
      ]
     },
     "metadata": {
      "needs_background": "light"
     },
     "output_type": "display_data"
    }
   ],
   "source": [
    "# Same plot but with best fit lines for each category.\n",
    "for i in range(len(xs)):\n",
    "    # Plot this category.\n",
    "    plt.plot(xs[i], ys[i], '.')\n",
    "    # Fit line to category.\n",
    "    m, c = np.polyfit(xs[i], ys[i], 1)\n",
    "    # Create steadily increasing x range for plot.\n",
    "    xbestfit = np.linspace(xs[i].min(), xs[i].max(), 50)\n",
    "    # Corresponding y values based on best fit line.\n",
    "    ybestfit = m * xbestfit + c\n",
    "    # Plot best fit line for category.\n",
    "    plt.plot(xbestfit, ybestfit, color='lightgrey');"
   ]
  },
  {
   "cell_type": "markdown",
   "id": "2683c1ea",
   "metadata": {},
   "source": [
    "See [Simpson's Paradox](https://en.wikipedia.org/wiki/Simpson%27s_paradox)."
   ]
  },
  {
   "cell_type": "markdown",
   "id": "44a870f8",
   "metadata": {},
   "source": [
    "## Exercise 3\n",
    "***\n",
    "**Adapt the above code and plots so that the overall plot is inversely proportional and the individual groups are directly proportional.**"
   ]
  },
  {
   "cell_type": "markdown",
   "id": "e22e4dde",
   "metadata": {},
   "source": [
    "The values on the y-axis are generated from the following equation:  \n",
    "$$ y = mx + c $$\n",
    "\n",
    "To generate a plot with inverse proportionality, the following equation should be used:\n",
    "\n",
    "$$ y = \\frac{1}{mx + c} $$\n",
    "\n",
    "However, when we adapted the code for the y values \n",
    "\n",
    "`ys = np.array([1.0/(-1.0 * xs[i] + 2) * i for i in range(len(xs))])`\n",
    "\n",
    "we get an error message \n",
    "\n",
    "`C:\\Users\\breed\\AppData\\Local\\Temp/ipykernel_20628/1869100818.py:6: RuntimeWarning: divide by zero encountered in true_divide\n",
    "  ys = np.array([1.0/(-1.0 * xs[i] + 2) * i for i in range(len(xs))])\n",
    "`\n",
    "\n",
    "An alternative would be to flip the y-axis to invert the y-axis. "
   ]
  },
  {
   "cell_type": "code",
   "execution_count": 89,
   "id": "d8237f4c",
   "metadata": {},
   "outputs": [
    {
     "data": {
      "image/png": "[encoded data removed]",
      "text/plain": [
       "<Figure size 864x432 with 1 Axes>"
      ]
     },
     "metadata": {
      "needs_background": "light"
     },
     "output_type": "display_data"
    }
   ],
   "source": [
    "# Create a series of x vectors.\n",
    "xs = np.array([np.linspace(i, i + 2.0, 20) for i in range(1,10)])\n",
    "\n",
    "# Create a corresponding series of y vectors.\n",
    "ys = np.array([1.0 * xs[i] - 2 * i for i in range(len(xs))])\n",
    "\n",
    "# Add some noise.\n",
    "ys = ys + np.random.normal(0.0, 1.0, ys.shape)\n",
    "\n",
    "# Create global list of x and y values.\n",
    "x = xs.flatten()\n",
    "y = ys.flatten()\n",
    "\n",
    "# Plot.\n",
    "plt.plot(x, y, '.');"
   ]
  },
  {
   "cell_type": "code",
   "execution_count": 81,
   "id": "f63bc1d7",
   "metadata": {
    "scrolled": true
   },
   "outputs": [
    {
     "data": {
      "image/png": "[encoded data removed]",
      "text/plain": [
       "<Figure size 864x432 with 1 Axes>"
      ]
     },
     "metadata": {
      "needs_background": "light"
     },
     "output_type": "display_data"
    }
   ],
   "source": [
    "# Best fit line slope and y intercept.\n",
    "m, c = np.polyfit(x, y, 1)\n",
    "\n",
    "# Create a steadily increasing x range for plotting.\n",
    "xbestfit = np.linspace(x.min(), x.max(), 1000)\n",
    "\n",
    "# Create corresponding y values form best fit line.\n",
    "ybestfit = m * (xbestfit) + c\n",
    "\n",
    "# Plot points.\n",
    "plt.plot(x, y, '.')\n",
    "\n",
    "# Plot line.\n",
    "plt.plot(xbestfit, ybestfit);\n"
   ]
  },
  {
   "cell_type": "code",
   "execution_count": 82,
   "id": "dc787f49",
   "metadata": {},
   "outputs": [
    {
     "data": {
      "image/png": "[encoded data removed]",
      "text/plain": [
       "<Figure size 864x432 with 1 Axes>"
      ]
     },
     "metadata": {
      "needs_background": "light"
     },
     "output_type": "display_data"
    }
   ],
   "source": [
    "# Plot the same points, but now with a different colour for each range.\n",
    "for i in range(len(xs)):\n",
    "    plt.plot(xs[i], ys[i], '.')"
   ]
  },
  {
   "cell_type": "code",
   "execution_count": 83,
   "id": "1c397b09",
   "metadata": {},
   "outputs": [
    {
     "data": {
      "image/png": "[encoded data removed]",
      "text/plain": [
       "<Figure size 864x432 with 1 Axes>"
      ]
     },
     "metadata": {
      "needs_background": "light"
     },
     "output_type": "display_data"
    }
   ],
   "source": [
    "# Same plot but with best fit lines for each category.\n",
    "for i in range(len(xs)):\n",
    "    # Plot this category.\n",
    "    plt.plot(xs[i], ys[i], '.')\n",
    "    # Fit line to category.\n",
    "    m, c = np.polyfit(xs[i], ys[i], 1)\n",
    "    # Create steadily increasing x range for plot.\n",
    "    xbestfit = np.linspace(xs[i].min(), xs[i].max(), 50)\n",
    "    # Corresponding y values based on best fit line.\n",
    "    ybestfit = m * xbestfit + c\n",
    "    # Plot best fit line for category.\n",
    "    plt.plot(xbestfit, ybestfit, color='lightgrey');\n"
   ]
  },
  {
   "cell_type": "markdown",
   "id": "95b1f7e5",
   "metadata": {},
   "source": [
    "https://stackoverflow.com/questions/44041021/how-to-plot-y-1-x-as-a-single-graph"
   ]
  }
 ],
 "metadata": {
  "kernelspec": {
   "display_name": "Python 3 (ipykernel)",
   "language": "python",
   "name": "python3"
  },
  "language_info": {
   "codemirror_mode": {
    "name": "ipython",
    "version": 3
   },
   "file_extension": ".py",
   "mimetype": "text/x-python",
   "name": "python",
   "nbconvert_exporter": "python",
   "pygments_lexer": "ipython3",
   "version": "3.9.7"
  }
 },
 "nbformat": 4,
 "nbformat_minor": 5
}
