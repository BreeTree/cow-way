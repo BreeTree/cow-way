{
 "cells": [
  {
   "cell_type": "markdown",
   "id": "38a50d46",
   "metadata": {},
   "source": [
    "# Normal Distribution\n",
    "***"
   ]
  },
  {
   "cell_type": "markdown",
   "id": "a3e06f94",
   "metadata": {},
   "source": [
    "_Breeda Herlihy G0041136_"
   ]
  },
  {
   "cell_type": "markdown",
   "id": "a7c469a0",
   "metadata": {},
   "source": [
    "This notebook will introduce the main concepts of Normal distribution and explain those concepts using the Python programming language to create plots. "
   ]
  },
  {
   "cell_type": "code",
   "execution_count": 4,
   "id": "3137b825",
   "metadata": {},
   "outputs": [],
   "source": [
    "# Import packages \n",
    "\n",
    "import numpy as np\n",
    "import matplotlib.pyplot as plt\n"
   ]
  },
  {
   "cell_type": "markdown",
   "id": "ce566bfd",
   "metadata": {},
   "source": [
    "### Probability\n",
    "***"
   ]
  },
  {
   "cell_type": "markdown",
   "id": "c27bfac9",
   "metadata": {},
   "source": [
    "Probability is the likelihood of an event occurring. **[1]** In mathematical terms, it is a numerical description of how likely an event is to occur where 0 means that it is impossible and 1 means that it is certain. It can be described by this formula **[2]**:   \n",
    "\n",
    "$$ Probability = \\frac{number\\, of\\, desired\\, outcomes}{total\\, number\\, of\\, outcomes} $$\n",
    "\n",
    "For example, a coin has two sides, one head and one tail. To determine the probability of a fair coin landing with it's heads up when tossed, we can calculate the probability as follows: "
   ]
  },
  {
   "cell_type": "code",
   "execution_count": 5,
   "id": "96ea13a9",
   "metadata": {},
   "outputs": [
    {
     "name": "stdout",
     "output_type": "stream",
     "text": [
      "The probability of heads landing in a coin toss is 0.5 or 50.0%\n"
     ]
    }
   ],
   "source": [
    "# Probability of heads\n",
    "desired = 1 # heads, one side of coin\n",
    "total = 2 # coin has 2 sides\n",
    "\n",
    "prob = desired / total\n",
    "print(f\"The probability of heads landing in a coin toss is {prob} or {prob*100}%\")"
   ]
  },
  {
   "cell_type": "markdown",
   "id": "1f2c7033",
   "metadata": {},
   "source": [
    "While coin tossing is a simple illustration, probability is used to help us address questions which can't be answered with absolute certainty of correctness. For example, if a clinical trial \n",
    "shows that a drug is effective among 90% of the study participants, we can use probability to ascertain if this success rate can be repeated with a different sample of patients. \n",
    "\n",
    "It would be impossible to test the effectiveness of drug on all patients with a particular condition so we need to be able to generalize the data generated in sample populations. We can draw a random sample from a larger target population and establish through statistics how well the sample represents the larger population with a sampling distribution. **[3]**\n",
    "\n",
    "In most instances of statistical inference, we use the idealized mathematical descriptions of  sampling distributions. The Normal distribution is one of the most common statistical tests found in research across all disciplines.\n",
    "\n",
    " > _\"The normal distribution is essentially a frequency distribution curve which is often formed naturally by continuous random variables.\"_ **[4]**"
   ]
  },
  {
   "cell_type": "code",
   "execution_count": 6,
   "id": "53b32ab6",
   "metadata": {},
   "outputs": [
    {
     "data": {
      "image/png": "[encoded data removed]",
      "text/plain": [
       "<Figure size 432x288 with 1 Axes>"
      ]
     },
     "metadata": {
      "needs_background": "light"
     },
     "output_type": "display_data"
    }
   ],
   "source": [
    "# Plot a normal distribution curve based on random variables\n",
    "\n",
    "# Generate random variables using numpy.random.normal function\n",
    "mu, sigma = 0, 1 # mean and standard deviation\n",
    "sample = np.random.normal(mu, sigma, 1000)\n",
    "\n",
    "# Plot a histogram\n",
    "count, bins, ignored = plt.hist(sample, 30, density=True)\n",
    "\n",
    "# Plot a curve based on the histogram \n",
    "# https://numpy.org/doc/stable/reference/random/generated/numpy.random.normal.html\n",
    "plt.plot(bins, 1/(sigma * np.sqrt(2 * np.pi)) *\n",
    "               np.exp( - (bins - mu)**2 / (2 * sigma**2) ),\n",
    "         linewidth=2, color='r')\n",
    "plt.show()\n"
   ]
  },
  {
   "cell_type": "markdown",
   "id": "9aacb3cd",
   "metadata": {},
   "source": [
    "A continuous random variable is one which takes an infinite number of possible values. Examples of continuous random variables include IQ scores, the amount of cash a person carries, a baby's birth weight, and SAT scores used for college admissions in the US. \n",
    "\n",
    "Since the continuous random variable is defined over an interval of values, it is represented by the area under a curve (or the integral). [5]\n",
    "\n",
    "The probability distribution of a continuous random variable, known as probability distribution functions, are the functions that take on continuous values.  \n",
    "\n",
    "The normal distribution can be expressed by this equation\n",
    "\n",
    "$$ \\frac{1}{\\sqrt{2 \\pi \\sigma^2 }} e^{-\\frac{(x - \\mu)^2}{2 \\sigma^2}} $$\n"
   ]
  },
  {
   "cell_type": "markdown",
   "id": "934d03bd",
   "metadata": {},
   "source": [
    "### References\n",
    "1. https://en.wikipedia.org/wiki/Probability\n",
    "2. https://thirdspacelearning.com/gcse-maths/probability/how-to-calculate-probability/ \n",
    "3. Manfred Stommel P, Katherine J. Dontje PF-B. Statistics for Advanced Practice Nurses and Health Professionals. New York, NY: Springer Publishing Company; 2014. Available from: https://search.ebscohost.com/login.aspx?direct=true&AuthType=ip,sso&db=e000xww&AN=782334&site=eds-live&scope=site \n",
    "4. Introduction to Normal Distribution. (2021, July 29). https://stats.libretexts.org/@go/page/4575\n",
    "5. https://www.datacamp.com/tutorial/probability-distributions-python \n"
   ]
  },
  {
   "cell_type": "code",
   "execution_count": null,
   "id": "a1e938ee",
   "metadata": {},
   "outputs": [],
   "source": []
  }
 ],
 "metadata": {
  "kernelspec": {
   "display_name": "Python 3 (ipykernel)",
   "language": "python",
   "name": "python3"
  },
  "language_info": {
   "codemirror_mode": {
    "name": "ipython",
    "version": 3
   },
   "file_extension": ".py",
   "mimetype": "text/x-python",
   "name": "python",
   "nbconvert_exporter": "python",
   "pygments_lexer": "ipython3",
   "version": "3.9.7"
  }
 },
 "nbformat": 4,
 "nbformat_minor": 5
}
