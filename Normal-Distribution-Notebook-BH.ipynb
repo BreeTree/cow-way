{
 "cells": [
  {
   "cell_type": "markdown",
   "id": "38a50d46",
   "metadata": {},
   "source": [
    "# Normal Distribution"
   ]
  },
  {
   "cell_type": "markdown",
   "id": "c27bfac9",
   "metadata": {},
   "source": [
    "The Normal distribution Bell curve normal distribution is one of the most useful and important probability distributions, with a wide range of theoretical and real-world applications. Many people know the normal distribution primarily by its colloquial name, the “bell curve,” which comes from its characteristic shape: a symmetric curve with a pronounced peak in the middle and diminishing tails. Mathematically, normal distributions are a family of continuous probability distributions. The normal function has no closed-form integral, but areas under the curve, which correspond to probabilities, can be accurately approximated with methods like numerical integration. All normal probability distributions display the same symmetric bell shape, but can have any real-valued mean (μ) and positive real-valued standard deviation (σ). The standard normal distribution is a special case with a mean of zero and standard deviation of one. All normal distributions can be transformed or standardized to the standard normal, which is theoretically important and extensively tabulated. Computers and calculators also allow direct calculation of normal probabilities. Students often use both technology and tables when they study the normal distribution in high school and beyond."
   ]
  },
  {
   "cell_type": "markdown",
   "id": "07556375",
   "metadata": {},
   "source": [
    "Create a notebook about the normal distribution.\n",
    "Define and explain the main concepts.\n",
    "Pitch the notebook at your classmates.\n",
    "Use visuals like plots to explain concepts"
   ]
  },
  {
   "cell_type": "markdown",
   "id": "934d03bd",
   "metadata": {},
   "source": [
    "### References\n",
    "Vilalta CJ. Normal distribution. Salem Press Encyclopedia of Science [Internet]. 2022 [cited 2022 Dec 28]; Available from: https://search.ebscohost.com/login.aspx?direct=true&AuthType=ip,sso&db=ers&AN=94981990&site=eds-live&scope=site"
   ]
  },
  {
   "cell_type": "code",
   "execution_count": null,
   "id": "92601bc5",
   "metadata": {},
   "outputs": [],
   "source": []
  }
 ],
 "metadata": {
  "kernelspec": {
   "display_name": "Python 3 (ipykernel)",
   "language": "python",
   "name": "python3"
  },
  "language_info": {
   "codemirror_mode": {
    "name": "ipython",
    "version": 3
   },
   "file_extension": ".py",
   "mimetype": "text/x-python",
   "name": "python",
   "nbconvert_exporter": "python",
   "pygments_lexer": "ipython3",
   "version": "3.9.7"
  }
 },
 "nbformat": 4,
 "nbformat_minor": 5
}
