{
 "cells": [
  {
   "cell_type": "markdown",
   "id": "09dd7f14",
   "metadata": {},
   "source": [
    "# Regular Expressions\n",
    "\n",
    "***\n",
    "\n",
    "https://docs.python.org/3/library/re.html\n",
    "\n",
    "https://realpython.com/regex-python/\n",
    "\n",
    "https://realpython.com/regex-python-part-2/\n",
    "\n",
    "https://developers.google.com/edu/python/regular-expressions\n",
    "\n",
    "https://librarycarpentry.org/lc-data-intro/01-regular-expressions/\n",
    "\n"
   ]
  },
  {
   "cell_type": "markdown",
   "id": "47df341c",
   "metadata": {},
   "source": [
    "## Python's re module\n",
    "Included by default in Python, Lengthy documentation available. \n",
    "Re has lots of different methods and functions. re.split very handy. \n",
    "\n",
    "Regular expressions find patterns in text. "
   ]
  },
  {
   "cell_type": "code",
   "execution_count": 1,
   "id": "24b8585c",
   "metadata": {},
   "outputs": [],
   "source": [
    "import re"
   ]
  },
  {
   "cell_type": "code",
   "execution_count": 2,
   "id": "39d22151",
   "metadata": {},
   "outputs": [
    {
     "name": "stdout",
     "output_type": "stream",
     "text": [
      "['Words', 'words', 'words', '']\n"
     ]
    }
   ],
   "source": [
    "# A string to be manipulated\n",
    "original = \"Words, words, words.\"\n",
    "\n",
    "# The pattern/regular expression to use on the above string\n",
    "pattern_1 = r'\\W+'\n",
    "\n",
    "# Splits a string into substrings using a regular expression. \n",
    "result_1 = re.split(pattern_1, original)\n",
    "\n",
    "# Print the result\n",
    "print(result_1)"
   ]
  },
  {
   "cell_type": "markdown",
   "id": "9f77da09",
   "metadata": {},
   "source": [
    "Backslash in strings usually means 'escape the following character' \n",
    "\\r carriage return\n",
    "\\n new line\n",
    "\n",
    "An r in front of your string as in `pattern` above denotes 'raw'. It means 'do not escape any of your characters'\n",
    "\n",
    "Split takes a string and returns a list of strings\n",
    "\n",
    "\\W generally means white space. Matches any character which is not a word character.\n",
    "\n",
    "\\W = ``[^a-zA-Z0-9_]`` will not match  any character, lower case, upper case, single digit and underscore. The match will happen with the single character\n",
    "\n",
    "The ^ means NOT\n",
    "\n",
    "\\w = ``[a-zA-Z0-9_]`` will match any character, lower case, upper case, single digit and underscore. The match will happen with the single character\n",
    "\n",
    "`+` is a quantifier. It means how many of the previous thing you want to match... one or more of the previous thing. It's greedy - it will match as many as it can. \n",
    "\n",
    "The final substring in the list is empty because the '.' matches \\W. The split occurs but it is empty. "
   ]
  },
  {
   "cell_type": "code",
   "execution_count": 3,
   "id": "94e293d7",
   "metadata": {},
   "outputs": [
    {
     "name": "stdout",
     "output_type": "stream",
     "text": [
      "<re.Match object; span=(0, 5), match='Words'>\n"
     ]
    }
   ],
   "source": [
    "original = \"Words, words, words.\"\n",
    "\n",
    "# The pattern/regular expression to use on the above string\n",
    "pattern_2 = r'(\\w+)'\n",
    "\n",
    "# Splits a string into substrings using a regular expression. \n",
    "result_2 = re.search(pattern_2, original)\n",
    "print(result_2)"
   ]
  },
  {
   "cell_type": "code",
   "execution_count": 4,
   "id": "a1f6fe9b",
   "metadata": {},
   "outputs": [
    {
     "data": {
      "text/plain": [
       "['Words', 'words, words.']"
      ]
     },
     "execution_count": 4,
     "metadata": {},
     "output_type": "execute_result"
    }
   ],
   "source": [
    "re.split(r'\\W+', 'Words, words, words.', 1)"
   ]
  },
  {
   "cell_type": "code",
   "execution_count": 5,
   "id": "32683ae7",
   "metadata": {},
   "outputs": [
    {
     "data": {
      "text/plain": [
       "['0', '3', '9']"
      ]
     },
     "execution_count": 5,
     "metadata": {},
     "output_type": "execute_result"
    }
   ],
   "source": [
    "# for characters a-f in any case, in the given expression, returns the integers.\n",
    "re.split('[a-f]+', '0a3B9', flags=re.IGNORECASE)"
   ]
  },
  {
   "cell_type": "markdown",
   "id": "e510079b",
   "metadata": {},
   "source": [
    "## Real Python\n",
    "Following this article https://realpython.com/regex-python/\n",
    "`re.search(<regex>, <string>)`\n",
    "A regular expression that is supposed to match a string.  Can be ambiguous. \n",
    "\n",
    "Sometimes you will want the whole string has to match the regular expression. \n",
    "\n",
    "Sometimes you will want to match the substring.\n",
    "\n",
    "A set of characters specified in square brackets ([]) makes up a character class.The special characters match any single character that is in the class\n"
   ]
  },
  {
   "cell_type": "code",
   "execution_count": 6,
   "id": "5dff43f4",
   "metadata": {},
   "outputs": [
    {
     "data": {
      "text/plain": [
       "True"
      ]
     },
     "execution_count": 6,
     "metadata": {},
     "output_type": "execute_result"
    }
   ],
   "source": [
    "'abc' == 'abc'"
   ]
  },
  {
   "cell_type": "code",
   "execution_count": 7,
   "id": "fbb981a3",
   "metadata": {},
   "outputs": [
    {
     "data": {
      "text/plain": [
       "False"
      ]
     },
     "execution_count": 7,
     "metadata": {},
     "output_type": "execute_result"
    }
   ],
   "source": [
    "'cda' == 'pda'"
   ]
  },
  {
   "cell_type": "code",
   "execution_count": 8,
   "id": "8d1fef5d",
   "metadata": {},
   "outputs": [
    {
     "data": {
      "text/plain": [
       "False"
      ]
     },
     "execution_count": 8,
     "metadata": {},
     "output_type": "execute_result"
    }
   ],
   "source": [
    "'abc' in 'cab'"
   ]
  },
  {
   "cell_type": "code",
   "execution_count": 9,
   "id": "6130c1aa",
   "metadata": {},
   "outputs": [
    {
     "data": {
      "text/plain": [
       "True"
      ]
     },
     "execution_count": 9,
     "metadata": {},
     "output_type": "execute_result"
    }
   ],
   "source": [
    "'abc' in 'cababc'"
   ]
  },
  {
   "cell_type": "code",
   "execution_count": 10,
   "id": "12d772a3",
   "metadata": {},
   "outputs": [
    {
     "data": {
      "text/plain": [
       "2"
      ]
     },
     "execution_count": 10,
     "metadata": {},
     "output_type": "execute_result"
    }
   ],
   "source": [
    "'cbabac'.index('a')"
   ]
  },
  {
   "cell_type": "code",
   "execution_count": 11,
   "id": "a210a89f",
   "metadata": {},
   "outputs": [
    {
     "data": {
      "text/plain": [
       "'a'"
      ]
     },
     "execution_count": 11,
     "metadata": {},
     "output_type": "execute_result"
    }
   ],
   "source": [
    "'cbabac'[2]"
   ]
  },
  {
   "cell_type": "code",
   "execution_count": 12,
   "id": "1382044d",
   "metadata": {},
   "outputs": [
    {
     "data": {
      "text/plain": [
       "2"
      ]
     },
     "execution_count": 12,
     "metadata": {},
     "output_type": "execute_result"
    }
   ],
   "source": [
    "'cbaabc'.find('aa')"
   ]
  },
  {
   "cell_type": "code",
   "execution_count": 13,
   "id": "8abdc3f1",
   "metadata": {},
   "outputs": [
    {
     "data": {
      "text/plain": [
       "<re.Match object; span=(3, 6), match='123'>"
      ]
     },
     "execution_count": 13,
     "metadata": {},
     "output_type": "execute_result"
    }
   ],
   "source": [
    "s = 'foo123bar'\n",
    "\n",
    "re.search('123', s)"
   ]
  },
  {
   "cell_type": "code",
   "execution_count": 14,
   "id": "ca577d4e",
   "metadata": {},
   "outputs": [
    {
     "data": {
      "text/plain": [
       "'123'"
      ]
     },
     "execution_count": 14,
     "metadata": {},
     "output_type": "execute_result"
    }
   ],
   "source": [
    "s[3:6]"
   ]
  },
  {
   "cell_type": "code",
   "execution_count": 15,
   "id": "25cfdf8d",
   "metadata": {},
   "outputs": [
    {
     "data": {
      "text/plain": [
       "<re.Match object; span=(3, 6), match='123'>"
      ]
     },
     "execution_count": 15,
     "metadata": {},
     "output_type": "execute_result"
    }
   ],
   "source": [
    "s = 'foo123bar'\n",
    "re.search(r'[0-9][0-9][0-9]', s)"
   ]
  },
  {
   "cell_type": "code",
   "execution_count": 16,
   "id": "c5858e10",
   "metadata": {},
   "outputs": [
    {
     "data": {
      "text/plain": [
       "<re.Match object; span=(3, 6), match='456'>"
      ]
     },
     "execution_count": 16,
     "metadata": {},
     "output_type": "execute_result"
    }
   ],
   "source": [
    "re.search(r'[0-9][0-9][0-9]', 'foo456bar')"
   ]
  },
  {
   "cell_type": "code",
   "execution_count": 17,
   "id": "bd0916f1",
   "metadata": {},
   "outputs": [
    {
     "data": {
      "text/plain": [
       "<re.Match object; span=(0, 3), match='234'>"
      ]
     },
     "execution_count": 17,
     "metadata": {},
     "output_type": "execute_result"
    }
   ],
   "source": [
    "re.search(r'[0-9][0-9][0-9]', '234baz')"
   ]
  },
  {
   "cell_type": "code",
   "execution_count": 18,
   "id": "afe20618",
   "metadata": {},
   "outputs": [
    {
     "data": {
      "text/plain": [
       "<re.Match object; span=(3, 6), match='678'>"
      ]
     },
     "execution_count": 18,
     "metadata": {},
     "output_type": "execute_result"
    }
   ],
   "source": [
    "re.search(r'[0-9][0-9][0-9]', 'qux678')"
   ]
  },
  {
   "cell_type": "code",
   "execution_count": 19,
   "id": "ced5c321",
   "metadata": {},
   "outputs": [
    {
     "name": "stdout",
     "output_type": "stream",
     "text": [
      "None\n"
     ]
    }
   ],
   "source": [
    "print(re.search(r'[0-9][0-9][0-9]', '12foo34'))"
   ]
  },
  {
   "cell_type": "code",
   "execution_count": 20,
   "id": "d4ba2eb5",
   "metadata": {},
   "outputs": [
    {
     "data": {
      "text/plain": [
       "<re.Match object; span=(3, 6), match='123'>"
      ]
     },
     "execution_count": 20,
     "metadata": {},
     "output_type": "execute_result"
    }
   ],
   "source": [
    "s = 'foo123bar'\n",
    "re.search('1.3', s)\n"
   ]
  },
  {
   "cell_type": "code",
   "execution_count": 21,
   "id": "1441e1dc",
   "metadata": {},
   "outputs": [
    {
     "name": "stdout",
     "output_type": "stream",
     "text": [
      "None\n"
     ]
    }
   ],
   "source": [
    "s = 'foo13bar'\n",
    "print(re.search('1.3', s))"
   ]
  },
  {
   "cell_type": "code",
   "execution_count": 22,
   "id": "6f5a84c9",
   "metadata": {},
   "outputs": [
    {
     "data": {
      "text/plain": [
       "<re.Match object; span=(3, 6), match='678'>"
      ]
     },
     "execution_count": 22,
     "metadata": {},
     "output_type": "execute_result"
    }
   ],
   "source": [
    "re.search(r'[0-9]{3}', 'qux678')"
   ]
  },
  {
   "cell_type": "markdown",
   "id": "14e2dd9a",
   "metadata": {},
   "source": [
    "## Google Education\n",
    "***\n",
    "https://developers.google.com/edu/python/regular-expressions\n"
   ]
  },
  {
   "cell_type": "code",
   "execution_count": 23,
   "id": "3ba8217c",
   "metadata": {},
   "outputs": [
    {
     "name": "stdout",
     "output_type": "stream",
     "text": [
      "found word:cat\n"
     ]
    }
   ],
   "source": [
    "import re\n",
    "\n",
    "str = 'an example word:cat!!'\n",
    "match = re.search(r'word:\\w\\w\\w', str)\n",
    "# If-statement after search() tests if it succeeded\n",
    "if match:\n",
    "  print('found', match.group()) ## 'found word:cat'\n",
    "else:\n",
    "  print('did not find')"
   ]
  },
  {
   "cell_type": "code",
   "execution_count": 24,
   "id": "a3521fc3",
   "metadata": {},
   "outputs": [
    {
     "data": {
      "text/plain": [
       "<re.Match object; span=(0, 6), match='aaaaaa'>"
      ]
     },
     "execution_count": 24,
     "metadata": {},
     "output_type": "execute_result"
    }
   ],
   "source": [
    "string = 'aaaaaa'\n",
    "pattern = r'a+'\n",
    "\n",
    "re.search(pattern, string)"
   ]
  },
  {
   "cell_type": "code",
   "execution_count": 25,
   "id": "48950a6c",
   "metadata": {},
   "outputs": [
    {
     "data": {
      "text/plain": [
       "<re.Match object; span=(0, 4), match='aaaa'>"
      ]
     },
     "execution_count": 25,
     "metadata": {},
     "output_type": "execute_result"
    }
   ],
   "source": [
    "string = 'aaaabaa'\n",
    "pattern = r'a+'\n",
    "\n",
    "re.search(pattern, string)"
   ]
  },
  {
   "cell_type": "markdown",
   "id": "90a0d368",
   "metadata": {},
   "source": [
    "### Repetitions"
   ]
  },
  {
   "cell_type": "code",
   "execution_count": 26,
   "id": "2c44f48c",
   "metadata": {},
   "outputs": [
    {
     "data": {
      "text/plain": [
       "<re.Match object; span=(0, 4), match='piii'>"
      ]
     },
     "execution_count": 26,
     "metadata": {},
     "output_type": "execute_result"
    }
   ],
   "source": [
    "# i+ = one or more i's, as many as possible.\n",
    "match = re.search(r'pi+', 'piiig') # found, match.group() == \"piii\"\n",
    "match"
   ]
  },
  {
   "cell_type": "code",
   "execution_count": 27,
   "id": "b476b68e",
   "metadata": {},
   "outputs": [
    {
     "data": {
      "text/plain": [
       "<re.Match object; span=(1, 3), match='ii'>"
      ]
     },
     "execution_count": 27,
     "metadata": {},
     "output_type": "execute_result"
    }
   ],
   "source": [
    "# Finds the first/leftmost solution, and within it drives the +\n",
    "# as far as possible (aka 'leftmost and largest').\n",
    "# In this example, note that it does not get to the second set of i's.\n",
    "match = re.search(r'i+', 'piigiiii') # found, match.group() == \"ii\"\n",
    "match"
   ]
  },
  {
   "cell_type": "code",
   "execution_count": 28,
   "id": "ce40ff68",
   "metadata": {},
   "outputs": [
    {
     "data": {
      "text/plain": [
       "<re.Match object; span=(2, 9), match='1 2   3'>"
      ]
     },
     "execution_count": 28,
     "metadata": {},
     "output_type": "execute_result"
    }
   ],
   "source": [
    "# \\s* = zero or more whitespace chars\n",
    "# Here look for 3 digits, possibly separated by whitespace.\n",
    "match = re.search(r'\\d\\s*\\d\\s*\\d', 'xx1 2   3xx') # found, match.group() == \"1 2   3\"\n",
    "match"
   ]
  },
  {
   "cell_type": "code",
   "execution_count": 29,
   "id": "bc883d9d",
   "metadata": {},
   "outputs": [
    {
     "data": {
      "text/plain": [
       "<re.Match object; span=(2, 7), match='12  3'>"
      ]
     },
     "execution_count": 29,
     "metadata": {},
     "output_type": "execute_result"
    }
   ],
   "source": [
    "match = re.search(r'\\d\\s*\\d\\s*\\d', 'xx12  3xx') # found, match.group() == \"12  3\"\n",
    "match"
   ]
  },
  {
   "cell_type": "code",
   "execution_count": 30,
   "id": "256eb0f6",
   "metadata": {},
   "outputs": [
    {
     "data": {
      "text/plain": [
       "<re.Match object; span=(2, 5), match='123'>"
      ]
     },
     "execution_count": 30,
     "metadata": {},
     "output_type": "execute_result"
    }
   ],
   "source": [
    "match = re.search(r'\\d\\s*\\d\\s*\\d', 'xx123xx') # found, match.group() == \"123\"\n",
    "match"
   ]
  },
  {
   "cell_type": "code",
   "execution_count": 31,
   "id": "ed68623b",
   "metadata": {},
   "outputs": [],
   "source": [
    "# ^ = matches the start of string, so this fails:\n",
    "match = re.search(r'^b\\w+', 'foobar') # not found, match == None\n",
    "match"
   ]
  },
  {
   "cell_type": "code",
   "execution_count": 32,
   "id": "f2795aa3",
   "metadata": {},
   "outputs": [
    {
     "data": {
      "text/plain": [
       "<re.Match object; span=(3, 6), match='bar'>"
      ]
     },
     "execution_count": 32,
     "metadata": {},
     "output_type": "execute_result"
    }
   ],
   "source": [
    "# but without the ^ it succeeds:\n",
    "match = re.search(r'b\\w+', 'foobar') # found, match.group() == \"bar\"\n",
    "match"
   ]
  },
  {
   "cell_type": "markdown",
   "id": "b0536e28",
   "metadata": {},
   "source": [
    "#### Email example"
   ]
  },
  {
   "cell_type": "code",
   "execution_count": 33,
   "id": "df9fde20",
   "metadata": {},
   "outputs": [
    {
     "name": "stdout",
     "output_type": "stream",
     "text": [
      "b@google\n"
     ]
    }
   ],
   "source": [
    "# Common use of regex to search for email addresses\n",
    "str = 'purple alice-b@google.com monkey dishwasher'\n",
    "match = re.search(r'\\w+@\\w+', str)\n",
    "if match:\n",
    "    print(match.group())  ## 'b@google'"
   ]
  },
  {
   "cell_type": "code",
   "execution_count": 34,
   "id": "b06ebd6b",
   "metadata": {},
   "outputs": [
    {
     "name": "stdout",
     "output_type": "stream",
     "text": [
      "alice-b@google.com\n"
     ]
    }
   ],
   "source": [
    "# use [] to indicate a group of characters or metacharacters \n",
    "# except dot (.) means literal dot (.) rather than matching any character \n",
    "match = re.search(r'[\\w.-]+@[\\w.-]+', str)\n",
    "if match:\n",
    "    print(match.group())  ## 'alice-b@google.com'"
   ]
  },
  {
   "cell_type": "markdown",
   "id": "3e5f69f5",
   "metadata": {},
   "source": [
    "### Regex resources \n",
    "Regex golf \n",
    "https://alf.nu/RegexGolf?world=regex&level=r00\n",
    "\n",
    "Regex 101 explains regular expression entered\n",
    "https://regex101.com/\n",
    "\n",
    "Enter reg expression for graphical analysis \n",
    "https://regexper.com/"
   ]
  },
  {
   "cell_type": "markdown",
   "id": "38f631eb",
   "metadata": {},
   "source": [
    "### Exercise 1 \n",
    "***\n",
    "Write a Python function to remove all non-alphanumeric characters from a string"
   ]
  },
  {
   "cell_type": "code",
   "execution_count": 35,
   "id": "6d477fd3",
   "metadata": {},
   "outputs": [
    {
     "name": "stdout",
     "output_type": "stream",
     "text": [
      "Codinglikepoetryshouldbeshortandconcise\n"
     ]
    }
   ],
   "source": [
    "# Adaped from https://bobbyhadz.com/blog/python-remove-non-alphanumeric-characters-from-string\n",
    "# For a given string\n",
    "my_str = 'Coding_ like- poetry| should{be}short#and; concise'\n",
    "\n",
    "# Remove all non-alphanumeric characters and white space from string \n",
    "new_str = re.sub(r'[\\W_]', '', my_str)\n",
    "\n",
    "print(new_str)"
   ]
  },
  {
   "cell_type": "markdown",
   "id": "b3da61a8",
   "metadata": {},
   "source": [
    "## Second Part of Regex Real Python"
   ]
  },
  {
   "cell_type": "markdown",
   "id": "dcc7e36b",
   "metadata": {},
   "source": [
    "The regex is like a small program. This part for example tells the search function what to do `[0-9]{3}`\n",
    "A programming language to describe and turn the pattern into a little program/algorithim in the background by the re module. \n",
    "\n",
    "The regex is like a little program and is much more efficient than writing a python program. \n",
    "They will also work across several languages aside from python.\n",
    "\n",
    "If you are reusing the same regex many times in, then you can compile it with the re module.  \n",
    "\n",
    "Use r'' at start of regex to indicate raw\n"
   ]
  },
  {
   "cell_type": "markdown",
   "id": "34481c68",
   "metadata": {},
   "source": [
    "### reModule "
   ]
  },
  {
   "cell_type": "markdown",
   "id": "12764774",
   "metadata": {},
   "source": [
    "#### re.search()"
   ]
  },
  {
   "cell_type": "markdown",
   "id": "d0780715",
   "metadata": {},
   "source": [
    "`re.search(<regex>, <string>, flags=0)`\n",
    "flags are a means of tweaking the search string\n"
   ]
  },
  {
   "cell_type": "code",
   "execution_count": 36,
   "id": "00eb4443",
   "metadata": {},
   "outputs": [
    {
     "data": {
      "text/plain": [
       "<re.Match object; span=(3, 6), match='123'>"
      ]
     },
     "execution_count": 36,
     "metadata": {},
     "output_type": "execute_result"
    }
   ],
   "source": [
    "# \\d matches any digit + one or more of the previous regex so in this case it means one or more digits\n",
    "# finds the first thing matching the regex so doesn't pick up on 456\n",
    "# () around \\d+ are ignored\n",
    "re.search(r'(\\d+)', 'foo123bar456')\n"
   ]
  },
  {
   "cell_type": "code",
   "execution_count": 37,
   "id": "76a825fa",
   "metadata": {},
   "outputs": [
    {
     "data": {
      "text/plain": [
       "<re.Match object; span=(3, 6), match='FOO'>"
      ]
     },
     "execution_count": 37,
     "metadata": {},
     "output_type": "execute_result"
    }
   ],
   "source": [
    "# flags gets a match on lower and uppercase i.e. ignore the case\n",
    "re.search(r'[a-z]+', '123FOO456', flags=re.IGNORECASE)"
   ]
  },
  {
   "cell_type": "code",
   "execution_count": 38,
   "id": "e56de29b",
   "metadata": {},
   "outputs": [
    {
     "name": "stdout",
     "output_type": "stream",
     "text": [
      "None\n"
     ]
    }
   ],
   "source": [
    "# print wrapper prints None in jupyter. Otherwise it would look like nothing happens. \n",
    "print(re.search(r'\\d+', 'foo.bar'))"
   ]
  },
  {
   "cell_type": "code",
   "execution_count": 39,
   "id": "bb5e872b",
   "metadata": {},
   "outputs": [
    {
     "data": {
      "text/plain": [
       "<re.Match object; span=(0, 3), match='123'>"
      ]
     },
     "execution_count": 39,
     "metadata": {},
     "output_type": "execute_result"
    }
   ],
   "source": [
    "re.search(r'\\d+', '123foobar')"
   ]
  },
  {
   "cell_type": "code",
   "execution_count": 40,
   "id": "71fc2493",
   "metadata": {},
   "outputs": [
    {
     "data": {
      "text/plain": [
       "<re.Match object; span=(3, 6), match='123'>"
      ]
     },
     "execution_count": 40,
     "metadata": {},
     "output_type": "execute_result"
    }
   ],
   "source": [
    "re.search(r'\\d+', 'foo123bar')"
   ]
  },
  {
   "cell_type": "code",
   "execution_count": 41,
   "id": "3e5c51e0",
   "metadata": {},
   "outputs": [
    {
     "data": {
      "text/plain": [
       "<re.Match object; span=(0, 3), match='123'>"
      ]
     },
     "execution_count": 41,
     "metadata": {},
     "output_type": "execute_result"
    }
   ],
   "source": [
    "re.match(r'\\d+', '123foobar')"
   ]
  },
  {
   "cell_type": "markdown",
   "id": "0a261fda",
   "metadata": {},
   "source": [
    "#### re.match()"
   ]
  },
  {
   "cell_type": "markdown",
   "id": "009e5e2f",
   "metadata": {},
   "source": [
    "`re.match(<regex>, <string>, flags=0)` matches at the start of a string"
   ]
  },
  {
   "cell_type": "code",
   "execution_count": 42,
   "id": "b1ac16cc",
   "metadata": {},
   "outputs": [
    {
     "name": "stdout",
     "output_type": "stream",
     "text": [
      "None\n"
     ]
    }
   ],
   "source": [
    "# re.match will not match here because 123 is in the middle of the string and match will \n",
    "# only match at the start of a string\n",
    "print(re.match(r'\\d+', 'foo123bar'))"
   ]
  },
  {
   "cell_type": "markdown",
   "id": "edc1b934",
   "metadata": {},
   "source": [
    "#### re.fullmatch()"
   ]
  },
  {
   "cell_type": "markdown",
   "id": "54e9c909",
   "metadata": {},
   "source": [
    "`re.fullmatch(<regex>, <string>, flags=0)`\n",
    "\n",
    "Looks for a regex match on an entire string."
   ]
  },
  {
   "cell_type": "code",
   "execution_count": 43,
   "id": "2373de18",
   "metadata": {},
   "outputs": [
    {
     "name": "stdout",
     "output_type": "stream",
     "text": [
      "None\n"
     ]
    }
   ],
   "source": [
    "print(re.fullmatch(r'\\d+', '123foo'))"
   ]
  },
  {
   "cell_type": "code",
   "execution_count": 44,
   "id": "6cc0b519",
   "metadata": {},
   "outputs": [
    {
     "name": "stdout",
     "output_type": "stream",
     "text": [
      "None\n"
     ]
    }
   ],
   "source": [
    "print(re.fullmatch(r'\\d+', 'foo123'))"
   ]
  },
  {
   "cell_type": "code",
   "execution_count": 45,
   "id": "457c8da5",
   "metadata": {},
   "outputs": [
    {
     "name": "stdout",
     "output_type": "stream",
     "text": [
      "None\n"
     ]
    }
   ],
   "source": [
    "print(re.fullmatch(r'\\d+', 'foo123bar'))\n"
   ]
  },
  {
   "cell_type": "code",
   "execution_count": 46,
   "id": "eef10f22",
   "metadata": {},
   "outputs": [
    {
     "data": {
      "text/plain": [
       "<re.Match object; span=(0, 3), match='123'>"
      ]
     },
     "execution_count": 46,
     "metadata": {},
     "output_type": "execute_result"
    }
   ],
   "source": [
    "re.fullmatch(r'\\d+', '123')"
   ]
  },
  {
   "cell_type": "code",
   "execution_count": 47,
   "id": "36e3b0d6",
   "metadata": {},
   "outputs": [
    {
     "data": {
      "text/plain": [
       "<re.Match object; span=(0, 3), match='123'>"
      ]
     },
     "execution_count": 47,
     "metadata": {},
     "output_type": "execute_result"
    }
   ],
   "source": [
    "re.search(r'^\\d+$', '123')"
   ]
  },
  {
   "cell_type": "markdown",
   "id": "b8cacc4f",
   "metadata": {},
   "source": [
    "You can get `re.search` to act like `re.match` by using 'anchors' i.e. ^ at the beginning and $ at the end. It makes the search start at the beginning of the string"
   ]
  },
  {
   "cell_type": "markdown",
   "id": "b126379f",
   "metadata": {},
   "source": [
    "#### re.findall()"
   ]
  },
  {
   "cell_type": "markdown",
   "id": "a1422b11",
   "metadata": {},
   "source": [
    "`re.findall(<regex>, <string>, flags=0)`\n",
    "\n",
    "Returns a list of all matches of a regex in a string."
   ]
  },
  {
   "cell_type": "code",
   "execution_count": 48,
   "id": "b7e8394e",
   "metadata": {},
   "outputs": [
    {
     "data": {
      "text/plain": [
       "['123', '456', '789']"
      ]
     },
     "execution_count": 48,
     "metadata": {},
     "output_type": "execute_result"
    }
   ],
   "source": [
    "re.findall(r'\\d+', '123foo456bar789')"
   ]
  },
  {
   "cell_type": "markdown",
   "id": "89aa8529",
   "metadata": {},
   "source": [
    "#### re.finditer()"
   ]
  },
  {
   "cell_type": "markdown",
   "id": "45fb6486",
   "metadata": {},
   "source": [
    "`re.finditer(<regex>, <string>, flags=0)`\n",
    "\n",
    "Returns an iterator that yields regex matches.\n",
    "iter creates a generations"
   ]
  },
  {
   "cell_type": "code",
   "execution_count": 49,
   "id": "092110d3",
   "metadata": {},
   "outputs": [
    {
     "data": {
      "text/plain": [
       "<callable_iterator at 0x15a0a87e6d0>"
      ]
     },
     "execution_count": 49,
     "metadata": {},
     "output_type": "execute_result"
    }
   ],
   "source": [
    "matches = re.finditer(r'\\d+', '123foo456bar789')\n",
    "matches"
   ]
  },
  {
   "cell_type": "code",
   "execution_count": 50,
   "id": "68726112",
   "metadata": {},
   "outputs": [
    {
     "data": {
      "text/plain": [
       "<re.Match object; span=(0, 3), match='123'>"
      ]
     },
     "execution_count": 50,
     "metadata": {},
     "output_type": "execute_result"
    }
   ],
   "source": [
    "next(matches)"
   ]
  },
  {
   "cell_type": "code",
   "execution_count": 51,
   "id": "34f1bdea",
   "metadata": {},
   "outputs": [
    {
     "data": {
      "text/plain": [
       "<re.Match object; span=(6, 9), match='456'>"
      ]
     },
     "execution_count": 51,
     "metadata": {},
     "output_type": "execute_result"
    }
   ],
   "source": [
    "next(matches)"
   ]
  },
  {
   "cell_type": "code",
   "execution_count": 52,
   "id": "635d716c",
   "metadata": {},
   "outputs": [
    {
     "data": {
      "text/plain": [
       "<re.Match object; span=(12, 15), match='789'>"
      ]
     },
     "execution_count": 52,
     "metadata": {},
     "output_type": "execute_result"
    }
   ],
   "source": [
    "next(matches)"
   ]
  },
  {
   "cell_type": "code",
   "execution_count": 53,
   "id": "8ff7b296",
   "metadata": {},
   "outputs": [
    {
     "name": "stdout",
     "output_type": "stream",
     "text": [
      "None\n"
     ]
    }
   ],
   "source": [
    "try: \n",
    "    next(matches)\n",
    "except: \n",
    "    print(None)"
   ]
  },
  {
   "cell_type": "code",
   "execution_count": 54,
   "id": "00f1057d",
   "metadata": {},
   "outputs": [
    {
     "name": "stdout",
     "output_type": "stream",
     "text": [
      "<re.Match object; span=(0, 3), match='123'>\n",
      "<re.Match object; span=(6, 9), match='456'>\n",
      "<re.Match object; span=(12, 15), match='789'>\n"
     ]
    }
   ],
   "source": [
    "matches = re.finditer(r'\\d+', '123foo456bar789')\n",
    "matches\n",
    "for match in matches:\n",
    "    print(match)"
   ]
  },
  {
   "cell_type": "markdown",
   "id": "7138110b",
   "metadata": {},
   "source": [
    "#### re.sub() Really powerful"
   ]
  },
  {
   "cell_type": "markdown",
   "id": "79d1a1a2",
   "metadata": {},
   "source": [
    "`re.sub(<regex>, <repl>, <string>, count=0, flags=0)`\n",
    "Scans a string for regex matches, replaces the matching portions of the string with the specified replacement string, and returns the result. \n",
    "Returns a new string that results from performing replacements on a search string.\n",
    "\n",
    "`re.sub(<regex>, <repl>, <string>)` finds the leftmost non-overlapping occurrences of `<regex>` in `<string>`, replaces each match as indicated by `<repl>`, and returns the result. `<string>` remains unchanged.\n",
    "\n",
    "`re.subn(<regex>, <repl>, <string>, count=0, flags=0)`\n",
    "Returns a new string that results from performing replacements on a search string and also returns the number of substitutions made.\n",
    "\n",
    "The original string remains unchanged"
   ]
  },
  {
   "cell_type": "code",
   "execution_count": 55,
   "id": "8b4cd71c",
   "metadata": {},
   "outputs": [
    {
     "data": {
      "text/plain": [
       "'foo.#.bar.#.baz'"
      ]
     },
     "execution_count": 55,
     "metadata": {},
     "output_type": "execute_result"
    }
   ],
   "source": [
    "s = 'foo.123.bar.789.baz'\n",
    "\n",
    "re.sub(r'\\d+', '#', s)"
   ]
  },
  {
   "cell_type": "code",
   "execution_count": 56,
   "id": "d03b0a8a",
   "metadata": {},
   "outputs": [
    {
     "data": {
      "text/plain": [
       "'(*).123.(*).789.(*)'"
      ]
     },
     "execution_count": 56,
     "metadata": {},
     "output_type": "execute_result"
    }
   ],
   "source": [
    "re.sub('[a-z]+', '(*)', s)"
   ]
  },
  {
   "cell_type": "code",
   "execution_count": 57,
   "id": "2e9f826e",
   "metadata": {},
   "outputs": [
    {
     "data": {
      "text/plain": [
       "'qux,bar,baz,foo'"
      ]
     },
     "execution_count": 57,
     "metadata": {},
     "output_type": "execute_result"
    }
   ],
   "source": [
    "# round brackets are grabbing what is in that part of the regex\n",
    "# in the replacement string, you can number them /1 first thing matched, /2 second thing matched\n",
    "# could change columns in csv file with regex if you wished. \n",
    "re.sub(r'(\\w+),bar,baz,(\\w+)', r'\\2,bar,baz,\\1', 'foo,bar,baz,qux')"
   ]
  },
  {
   "cell_type": "code",
   "execution_count": 58,
   "id": "a11b1d59",
   "metadata": {},
   "outputs": [
    {
     "data": {
      "text/plain": [
       "'123foo456bar'"
      ]
     },
     "execution_count": 58,
     "metadata": {},
     "output_type": "execute_result"
    }
   ],
   "source": [
    "re.sub(r'([a-z]+)([0-9]+)', r'\\2\\1', 'foo123bar456')\n"
   ]
  },
  {
   "cell_type": "markdown",
   "id": "160afd31",
   "metadata": {},
   "source": [
    "### Compiling"
   ]
  },
  {
   "cell_type": "markdown",
   "id": "4af711e2",
   "metadata": {},
   "source": [
    "The general idea is that you create your regex and compile it ahead of time when you are using the regex multiple times. The re.compile is much more efficient than repeatedly using another re function.\n",
    "\n",
    "`re.compile(<regex>, flags=0`\n",
    "\n",
    "Compiles a regex into a regular expression object."
   ]
  },
  {
   "cell_type": "code",
   "execution_count": 59,
   "id": "bd6475f1",
   "metadata": {},
   "outputs": [],
   "source": [
    "my_regex = re.compile(r'([0-9]+)')"
   ]
  },
  {
   "cell_type": "code",
   "execution_count": 60,
   "id": "0cee76af",
   "metadata": {},
   "outputs": [
    {
     "data": {
      "text/plain": [
       "re.compile(r'([0-9]+)', re.UNICODE)"
      ]
     },
     "execution_count": 60,
     "metadata": {},
     "output_type": "execute_result"
    }
   ],
   "source": [
    "my_regex"
   ]
  },
  {
   "cell_type": "code",
   "execution_count": 61,
   "id": "a8cb9d5e",
   "metadata": {},
   "outputs": [
    {
     "data": {
      "text/plain": [
       "<re.Match object; span=(3, 6), match='123'>"
      ]
     },
     "execution_count": 61,
     "metadata": {},
     "output_type": "execute_result"
    }
   ],
   "source": [
    "my_regex.search('foo123bar456')"
   ]
  },
  {
   "cell_type": "code",
   "execution_count": 62,
   "id": "17e09c1a",
   "metadata": {},
   "outputs": [
    {
     "data": {
      "text/plain": [
       "['123', '456']"
      ]
     },
     "execution_count": 62,
     "metadata": {},
     "output_type": "execute_result"
    }
   ],
   "source": [
    "my_regex.findall('foo123bar456')"
   ]
  },
  {
   "cell_type": "code",
   "execution_count": 63,
   "id": "85b1d129",
   "metadata": {},
   "outputs": [
    {
     "data": {
      "text/plain": [
       "'foo...bar...'"
      ]
     },
     "execution_count": 63,
     "metadata": {},
     "output_type": "execute_result"
    }
   ],
   "source": [
    "my_regex.sub(r'...', 'foo123bar456')"
   ]
  },
  {
   "cell_type": "markdown",
   "id": "4f99f1dd",
   "metadata": {},
   "source": [
    "### Regular Expressions on Iris"
   ]
  },
  {
   "cell_type": "code",
   "execution_count": 64,
   "id": "57ff0276",
   "metadata": {},
   "outputs": [
    {
     "data": {
      "text/plain": [
       "['5.1,3.5,1.4,0.2,Iris-setosa',\n",
       " '4.9,3.0,1.4,0.2,Iris-setosa',\n",
       " '4.7,3.2,1.3,0.2,Iris-setosa',\n",
       " '4.6,3.1,1.5,0.2,Iris-setosa',\n",
       " '5.0,3.6,1.4,0.2,Iris-setosa',\n",
       " '5.4,3.9,1.7,0.4,Iris-setosa',\n",
       " '4.6,3.4,1.4,0.3,Iris-setosa',\n",
       " '5.0,3.4,1.5,0.2,Iris-setosa',\n",
       " '4.4,2.9,1.4,0.2,Iris-setosa',\n",
       " '4.9,3.1,1.5,0.1,Iris-setosa',\n",
       " '5.4,3.7,1.5,0.2,Iris-setosa',\n",
       " '4.8,3.4,1.6,0.2,Iris-setosa',\n",
       " '4.8,3.0,1.4,0.1,Iris-setosa',\n",
       " '4.3,3.0,1.1,0.1,Iris-setosa',\n",
       " '5.8,4.0,1.2,0.2,Iris-setosa',\n",
       " '5.7,4.4,1.5,0.4,Iris-setosa',\n",
       " '5.4,3.9,1.3,0.4,Iris-setosa',\n",
       " '5.1,3.5,1.4,0.3,Iris-setosa',\n",
       " '5.7,3.8,1.7,0.3,Iris-setosa',\n",
       " '5.1,3.8,1.5,0.3,Iris-setosa',\n",
       " '5.4,3.4,1.7,0.2,Iris-setosa',\n",
       " '5.1,3.7,1.5,0.4,Iris-setosa',\n",
       " '4.6,3.6,1.0,0.2,Iris-setosa',\n",
       " '5.1,3.3,1.7,0.5,Iris-setosa',\n",
       " '4.8,3.4,1.9,0.2,Iris-setosa',\n",
       " '5.0,3.0,1.6,0.2,Iris-setosa',\n",
       " '5.0,3.4,1.6,0.4,Iris-setosa',\n",
       " '5.2,3.5,1.5,0.2,Iris-setosa',\n",
       " '5.2,3.4,1.4,0.2,Iris-setosa',\n",
       " '4.7,3.2,1.6,0.2,Iris-setosa',\n",
       " '4.8,3.1,1.6,0.2,Iris-setosa',\n",
       " '5.4,3.4,1.5,0.4,Iris-setosa',\n",
       " '5.2,4.1,1.5,0.1,Iris-setosa',\n",
       " '5.5,4.2,1.4,0.2,Iris-setosa',\n",
       " '4.9,3.1,1.5,0.1,Iris-setosa',\n",
       " '5.0,3.2,1.2,0.2,Iris-setosa',\n",
       " '5.5,3.5,1.3,0.2,Iris-setosa',\n",
       " '4.9,3.1,1.5,0.1,Iris-setosa',\n",
       " '4.4,3.0,1.3,0.2,Iris-setosa',\n",
       " '5.1,3.4,1.5,0.2,Iris-setosa',\n",
       " '5.0,3.5,1.3,0.3,Iris-setosa',\n",
       " '4.5,2.3,1.3,0.3,Iris-setosa',\n",
       " '4.4,3.2,1.3,0.2,Iris-setosa',\n",
       " '5.0,3.5,1.6,0.6,Iris-setosa',\n",
       " '5.1,3.8,1.9,0.4,Iris-setosa',\n",
       " '4.8,3.0,1.4,0.3,Iris-setosa',\n",
       " '5.1,3.8,1.6,0.2,Iris-setosa',\n",
       " '4.6,3.2,1.4,0.2,Iris-setosa',\n",
       " '5.3,3.7,1.5,0.2,Iris-setosa',\n",
       " '5.0,3.3,1.4,0.2,Iris-setosa',\n",
       " '7.0,3.2,4.7,1.4,Iris-versicolor',\n",
       " '6.4,3.2,4.5,1.5,Iris-versicolor',\n",
       " '6.9,3.1,4.9,1.5,Iris-versicolor',\n",
       " '5.5,2.3,4.0,1.3,Iris-versicolor',\n",
       " '6.5,2.8,4.6,1.5,Iris-versicolor',\n",
       " '5.7,2.8,4.5,1.3,Iris-versicolor',\n",
       " '6.3,3.3,4.7,1.6,Iris-versicolor',\n",
       " '4.9,2.4,3.3,1.0,Iris-versicolor',\n",
       " '6.6,2.9,4.6,1.3,Iris-versicolor',\n",
       " '5.2,2.7,3.9,1.4,Iris-versicolor',\n",
       " '5.0,2.0,3.5,1.0,Iris-versicolor',\n",
       " '5.9,3.0,4.2,1.5,Iris-versicolor',\n",
       " '6.0,2.2,4.0,1.0,Iris-versicolor',\n",
       " '6.1,2.9,4.7,1.4,Iris-versicolor',\n",
       " '5.6,2.9,3.6,1.3,Iris-versicolor',\n",
       " '6.7,3.1,4.4,1.4,Iris-versicolor',\n",
       " '5.6,3.0,4.5,1.5,Iris-versicolor',\n",
       " '5.8,2.7,4.1,1.0,Iris-versicolor',\n",
       " '6.2,2.2,4.5,1.5,Iris-versicolor',\n",
       " '5.6,2.5,3.9,1.1,Iris-versicolor',\n",
       " '5.9,3.2,4.8,1.8,Iris-versicolor',\n",
       " '6.1,2.8,4.0,1.3,Iris-versicolor',\n",
       " '6.3,2.5,4.9,1.5,Iris-versicolor',\n",
       " '6.1,2.8,4.7,1.2,Iris-versicolor',\n",
       " '6.4,2.9,4.3,1.3,Iris-versicolor',\n",
       " '6.6,3.0,4.4,1.4,Iris-versicolor',\n",
       " '6.8,2.8,4.8,1.4,Iris-versicolor',\n",
       " '6.7,3.0,5.0,1.7,Iris-versicolor',\n",
       " '6.0,2.9,4.5,1.5,Iris-versicolor',\n",
       " '5.7,2.6,3.5,1.0,Iris-versicolor',\n",
       " '5.5,2.4,3.8,1.1,Iris-versicolor',\n",
       " '5.5,2.4,3.7,1.0,Iris-versicolor',\n",
       " '5.8,2.7,3.9,1.2,Iris-versicolor',\n",
       " '6.0,2.7,5.1,1.6,Iris-versicolor',\n",
       " '5.4,3.0,4.5,1.5,Iris-versicolor',\n",
       " '6.0,3.4,4.5,1.6,Iris-versicolor',\n",
       " '6.7,3.1,4.7,1.5,Iris-versicolor',\n",
       " '6.3,2.3,4.4,1.3,Iris-versicolor',\n",
       " '5.6,3.0,4.1,1.3,Iris-versicolor',\n",
       " '5.5,2.5,4.0,1.3,Iris-versicolor',\n",
       " '5.5,2.6,4.4,1.2,Iris-versicolor',\n",
       " '6.1,3.0,4.6,1.4,Iris-versicolor',\n",
       " '5.8,2.6,4.0,1.2,Iris-versicolor',\n",
       " '5.0,2.3,3.3,1.0,Iris-versicolor',\n",
       " '5.6,2.7,4.2,1.3,Iris-versicolor',\n",
       " '5.7,3.0,4.2,1.2,Iris-versicolor',\n",
       " '5.7,2.9,4.2,1.3,Iris-versicolor',\n",
       " '6.2,2.9,4.3,1.3,Iris-versicolor',\n",
       " '5.1,2.5,3.0,1.1,Iris-versicolor',\n",
       " '5.7,2.8,4.1,1.3,Iris-versicolor',\n",
       " '6.3,3.3,6.0,2.5,Iris-virginica',\n",
       " '5.8,2.7,5.1,1.9,Iris-virginica',\n",
       " '7.1,3.0,5.9,2.1,Iris-virginica',\n",
       " '6.3,2.9,5.6,1.8,Iris-virginica',\n",
       " '6.5,3.0,5.8,2.2,Iris-virginica',\n",
       " '7.6,3.0,6.6,2.1,Iris-virginica',\n",
       " '4.9,2.5,4.5,1.7,Iris-virginica',\n",
       " '7.3,2.9,6.3,1.8,Iris-virginica',\n",
       " '6.7,2.5,5.8,1.8,Iris-virginica',\n",
       " '7.2,3.6,6.1,2.5,Iris-virginica',\n",
       " '6.5,3.2,5.1,2.0,Iris-virginica',\n",
       " '6.4,2.7,5.3,1.9,Iris-virginica',\n",
       " '6.8,3.0,5.5,2.1,Iris-virginica',\n",
       " '5.7,2.5,5.0,2.0,Iris-virginica',\n",
       " '5.8,2.8,5.1,2.4,Iris-virginica',\n",
       " '6.4,3.2,5.3,2.3,Iris-virginica',\n",
       " '6.5,3.0,5.5,1.8,Iris-virginica',\n",
       " '7.7,3.8,6.7,2.2,Iris-virginica',\n",
       " '7.7,2.6,6.9,2.3,Iris-virginica',\n",
       " '6.0,2.2,5.0,1.5,Iris-virginica',\n",
       " '6.9,3.2,5.7,2.3,Iris-virginica',\n",
       " '5.6,2.8,4.9,2.0,Iris-virginica',\n",
       " '7.7,2.8,6.7,2.0,Iris-virginica',\n",
       " '6.3,2.7,4.9,1.8,Iris-virginica',\n",
       " '6.7,3.3,5.7,2.1,Iris-virginica',\n",
       " '7.2,3.2,6.0,1.8,Iris-virginica',\n",
       " '6.2,2.8,4.8,1.8,Iris-virginica',\n",
       " '6.1,3.0,4.9,1.8,Iris-virginica',\n",
       " '6.4,2.8,5.6,2.1,Iris-virginica',\n",
       " '7.2,3.0,5.8,1.6,Iris-virginica',\n",
       " '7.4,2.8,6.1,1.9,Iris-virginica',\n",
       " '7.9,3.8,6.4,2.0,Iris-virginica',\n",
       " '6.4,2.8,5.6,2.2,Iris-virginica',\n",
       " '6.3,2.8,5.1,1.5,Iris-virginica',\n",
       " '6.1,2.6,5.6,1.4,Iris-virginica',\n",
       " '7.7,3.0,6.1,2.3,Iris-virginica',\n",
       " '6.3,3.4,5.6,2.4,Iris-virginica',\n",
       " '6.4,3.1,5.5,1.8,Iris-virginica',\n",
       " '6.0,3.0,4.8,1.8,Iris-virginica',\n",
       " '6.9,3.1,5.4,2.1,Iris-virginica',\n",
       " '6.7,3.1,5.6,2.4,Iris-virginica',\n",
       " '6.9,3.1,5.1,2.3,Iris-virginica',\n",
       " '5.8,2.7,5.1,1.9,Iris-virginica',\n",
       " '6.8,3.2,5.9,2.3,Iris-virginica',\n",
       " '6.7,3.3,5.7,2.5,Iris-virginica',\n",
       " '6.7,3.0,5.2,2.3,Iris-virginica',\n",
       " '6.3,2.5,5.0,1.9,Iris-virginica',\n",
       " '6.5,3.0,5.2,2.0,Iris-virginica',\n",
       " '6.2,3.4,5.4,2.3,Iris-virginica',\n",
       " '5.9,3.0,5.1,1.8,Iris-virginica',\n",
       " '']"
      ]
     },
     "execution_count": 64,
     "metadata": {},
     "output_type": "execute_result"
    }
   ],
   "source": [
    "# https://stackoverflow.com/a/1393367\n",
    "\n",
    "import urllib.request\n",
    "\n",
    "url = r'https://archive.ics.uci.edu/ml/machine-learning-databases/iris/iris.data'\n",
    "\n",
    "# list comprehension. like a 'for' loop for lists\n",
    "# .strip() takes the new line out of every line. Every line is now an item in a list. \n",
    "iris = [line.decode('utf-8').strip() for line in urllib.request.urlopen(url)]\n",
    "\n",
    "# each string is a line from the IRIS dataset\n",
    "iris"
   ]
  },
  {
   "cell_type": "code",
   "execution_count": 65,
   "id": "ea7995f1",
   "metadata": {},
   "outputs": [],
   "source": [
    "strip_iris = re.compile(r'Iris-([a-z]+)')"
   ]
  },
  {
   "cell_type": "code",
   "execution_count": 66,
   "id": "ce54bc7b",
   "metadata": {},
   "outputs": [
    {
     "data": {
      "text/plain": [
       "['5.1,3.5,1.4,0.2,setosa',\n",
       " '4.9,3.0,1.4,0.2,setosa',\n",
       " '4.7,3.2,1.3,0.2,setosa',\n",
       " '4.6,3.1,1.5,0.2,setosa',\n",
       " '5.0,3.6,1.4,0.2,setosa',\n",
       " '5.4,3.9,1.7,0.4,setosa',\n",
       " '4.6,3.4,1.4,0.3,setosa',\n",
       " '5.0,3.4,1.5,0.2,setosa',\n",
       " '4.4,2.9,1.4,0.2,setosa',\n",
       " '4.9,3.1,1.5,0.1,setosa',\n",
       " '5.4,3.7,1.5,0.2,setosa',\n",
       " '4.8,3.4,1.6,0.2,setosa',\n",
       " '4.8,3.0,1.4,0.1,setosa',\n",
       " '4.3,3.0,1.1,0.1,setosa',\n",
       " '5.8,4.0,1.2,0.2,setosa',\n",
       " '5.7,4.4,1.5,0.4,setosa',\n",
       " '5.4,3.9,1.3,0.4,setosa',\n",
       " '5.1,3.5,1.4,0.3,setosa',\n",
       " '5.7,3.8,1.7,0.3,setosa',\n",
       " '5.1,3.8,1.5,0.3,setosa',\n",
       " '5.4,3.4,1.7,0.2,setosa',\n",
       " '5.1,3.7,1.5,0.4,setosa',\n",
       " '4.6,3.6,1.0,0.2,setosa',\n",
       " '5.1,3.3,1.7,0.5,setosa',\n",
       " '4.8,3.4,1.9,0.2,setosa',\n",
       " '5.0,3.0,1.6,0.2,setosa',\n",
       " '5.0,3.4,1.6,0.4,setosa',\n",
       " '5.2,3.5,1.5,0.2,setosa',\n",
       " '5.2,3.4,1.4,0.2,setosa',\n",
       " '4.7,3.2,1.6,0.2,setosa',\n",
       " '4.8,3.1,1.6,0.2,setosa',\n",
       " '5.4,3.4,1.5,0.4,setosa',\n",
       " '5.2,4.1,1.5,0.1,setosa',\n",
       " '5.5,4.2,1.4,0.2,setosa',\n",
       " '4.9,3.1,1.5,0.1,setosa',\n",
       " '5.0,3.2,1.2,0.2,setosa',\n",
       " '5.5,3.5,1.3,0.2,setosa',\n",
       " '4.9,3.1,1.5,0.1,setosa',\n",
       " '4.4,3.0,1.3,0.2,setosa',\n",
       " '5.1,3.4,1.5,0.2,setosa',\n",
       " '5.0,3.5,1.3,0.3,setosa',\n",
       " '4.5,2.3,1.3,0.3,setosa',\n",
       " '4.4,3.2,1.3,0.2,setosa',\n",
       " '5.0,3.5,1.6,0.6,setosa',\n",
       " '5.1,3.8,1.9,0.4,setosa',\n",
       " '4.8,3.0,1.4,0.3,setosa',\n",
       " '5.1,3.8,1.6,0.2,setosa',\n",
       " '4.6,3.2,1.4,0.2,setosa',\n",
       " '5.3,3.7,1.5,0.2,setosa',\n",
       " '5.0,3.3,1.4,0.2,setosa',\n",
       " '7.0,3.2,4.7,1.4,versicolor',\n",
       " '6.4,3.2,4.5,1.5,versicolor',\n",
       " '6.9,3.1,4.9,1.5,versicolor',\n",
       " '5.5,2.3,4.0,1.3,versicolor',\n",
       " '6.5,2.8,4.6,1.5,versicolor',\n",
       " '5.7,2.8,4.5,1.3,versicolor',\n",
       " '6.3,3.3,4.7,1.6,versicolor',\n",
       " '4.9,2.4,3.3,1.0,versicolor',\n",
       " '6.6,2.9,4.6,1.3,versicolor',\n",
       " '5.2,2.7,3.9,1.4,versicolor',\n",
       " '5.0,2.0,3.5,1.0,versicolor',\n",
       " '5.9,3.0,4.2,1.5,versicolor',\n",
       " '6.0,2.2,4.0,1.0,versicolor',\n",
       " '6.1,2.9,4.7,1.4,versicolor',\n",
       " '5.6,2.9,3.6,1.3,versicolor',\n",
       " '6.7,3.1,4.4,1.4,versicolor',\n",
       " '5.6,3.0,4.5,1.5,versicolor',\n",
       " '5.8,2.7,4.1,1.0,versicolor',\n",
       " '6.2,2.2,4.5,1.5,versicolor',\n",
       " '5.6,2.5,3.9,1.1,versicolor',\n",
       " '5.9,3.2,4.8,1.8,versicolor',\n",
       " '6.1,2.8,4.0,1.3,versicolor',\n",
       " '6.3,2.5,4.9,1.5,versicolor',\n",
       " '6.1,2.8,4.7,1.2,versicolor',\n",
       " '6.4,2.9,4.3,1.3,versicolor',\n",
       " '6.6,3.0,4.4,1.4,versicolor',\n",
       " '6.8,2.8,4.8,1.4,versicolor',\n",
       " '6.7,3.0,5.0,1.7,versicolor',\n",
       " '6.0,2.9,4.5,1.5,versicolor',\n",
       " '5.7,2.6,3.5,1.0,versicolor',\n",
       " '5.5,2.4,3.8,1.1,versicolor',\n",
       " '5.5,2.4,3.7,1.0,versicolor',\n",
       " '5.8,2.7,3.9,1.2,versicolor',\n",
       " '6.0,2.7,5.1,1.6,versicolor',\n",
       " '5.4,3.0,4.5,1.5,versicolor',\n",
       " '6.0,3.4,4.5,1.6,versicolor',\n",
       " '6.7,3.1,4.7,1.5,versicolor',\n",
       " '6.3,2.3,4.4,1.3,versicolor',\n",
       " '5.6,3.0,4.1,1.3,versicolor',\n",
       " '5.5,2.5,4.0,1.3,versicolor',\n",
       " '5.5,2.6,4.4,1.2,versicolor',\n",
       " '6.1,3.0,4.6,1.4,versicolor',\n",
       " '5.8,2.6,4.0,1.2,versicolor',\n",
       " '5.0,2.3,3.3,1.0,versicolor',\n",
       " '5.6,2.7,4.2,1.3,versicolor',\n",
       " '5.7,3.0,4.2,1.2,versicolor',\n",
       " '5.7,2.9,4.2,1.3,versicolor',\n",
       " '6.2,2.9,4.3,1.3,versicolor',\n",
       " '5.1,2.5,3.0,1.1,versicolor',\n",
       " '5.7,2.8,4.1,1.3,versicolor',\n",
       " '6.3,3.3,6.0,2.5,virginica',\n",
       " '5.8,2.7,5.1,1.9,virginica',\n",
       " '7.1,3.0,5.9,2.1,virginica',\n",
       " '6.3,2.9,5.6,1.8,virginica',\n",
       " '6.5,3.0,5.8,2.2,virginica',\n",
       " '7.6,3.0,6.6,2.1,virginica',\n",
       " '4.9,2.5,4.5,1.7,virginica',\n",
       " '7.3,2.9,6.3,1.8,virginica',\n",
       " '6.7,2.5,5.8,1.8,virginica',\n",
       " '7.2,3.6,6.1,2.5,virginica',\n",
       " '6.5,3.2,5.1,2.0,virginica',\n",
       " '6.4,2.7,5.3,1.9,virginica',\n",
       " '6.8,3.0,5.5,2.1,virginica',\n",
       " '5.7,2.5,5.0,2.0,virginica',\n",
       " '5.8,2.8,5.1,2.4,virginica',\n",
       " '6.4,3.2,5.3,2.3,virginica',\n",
       " '6.5,3.0,5.5,1.8,virginica',\n",
       " '7.7,3.8,6.7,2.2,virginica',\n",
       " '7.7,2.6,6.9,2.3,virginica',\n",
       " '6.0,2.2,5.0,1.5,virginica',\n",
       " '6.9,3.2,5.7,2.3,virginica',\n",
       " '5.6,2.8,4.9,2.0,virginica',\n",
       " '7.7,2.8,6.7,2.0,virginica',\n",
       " '6.3,2.7,4.9,1.8,virginica',\n",
       " '6.7,3.3,5.7,2.1,virginica',\n",
       " '7.2,3.2,6.0,1.8,virginica',\n",
       " '6.2,2.8,4.8,1.8,virginica',\n",
       " '6.1,3.0,4.9,1.8,virginica',\n",
       " '6.4,2.8,5.6,2.1,virginica',\n",
       " '7.2,3.0,5.8,1.6,virginica',\n",
       " '7.4,2.8,6.1,1.9,virginica',\n",
       " '7.9,3.8,6.4,2.0,virginica',\n",
       " '6.4,2.8,5.6,2.2,virginica',\n",
       " '6.3,2.8,5.1,1.5,virginica',\n",
       " '6.1,2.6,5.6,1.4,virginica',\n",
       " '7.7,3.0,6.1,2.3,virginica',\n",
       " '6.3,3.4,5.6,2.4,virginica',\n",
       " '6.4,3.1,5.5,1.8,virginica',\n",
       " '6.0,3.0,4.8,1.8,virginica',\n",
       " '6.9,3.1,5.4,2.1,virginica',\n",
       " '6.7,3.1,5.6,2.4,virginica',\n",
       " '6.9,3.1,5.1,2.3,virginica',\n",
       " '5.8,2.7,5.1,1.9,virginica',\n",
       " '6.8,3.2,5.9,2.3,virginica',\n",
       " '6.7,3.3,5.7,2.5,virginica',\n",
       " '6.7,3.0,5.2,2.3,virginica',\n",
       " '6.3,2.5,5.0,1.9,virginica',\n",
       " '6.5,3.0,5.2,2.0,virginica',\n",
       " '6.2,3.4,5.4,2.3,virginica',\n",
       " '5.9,3.0,5.1,1.8,virginica',\n",
       " '']"
      ]
     },
     "execution_count": 66,
     "metadata": {},
     "output_type": "execute_result"
    }
   ],
   "source": [
    "[strip_iris.sub(r'\\1', line) for line in iris]"
   ]
  },
  {
   "cell_type": "code",
   "execution_count": 67,
   "id": "6486ee00",
   "metadata": {},
   "outputs": [],
   "source": [
    "reverse_iris = re.compile(r'([0-9]\\.[0-9]),([0-9]\\.[0-9]),([0-9]\\.[0-9]),([0-9]\\.[0-9]),Iris-([a-z]+)')"
   ]
  },
  {
   "cell_type": "code",
   "execution_count": 68,
   "id": "331bbb9d",
   "metadata": {},
   "outputs": [
    {
     "data": {
      "text/plain": [
       "['setosa,0.2,1.4,3.5,5.1',\n",
       " 'setosa,0.2,1.4,3.0,4.9',\n",
       " 'setosa,0.2,1.3,3.2,4.7',\n",
       " 'setosa,0.2,1.5,3.1,4.6',\n",
       " 'setosa,0.2,1.4,3.6,5.0',\n",
       " 'setosa,0.4,1.7,3.9,5.4',\n",
       " 'setosa,0.3,1.4,3.4,4.6',\n",
       " 'setosa,0.2,1.5,3.4,5.0',\n",
       " 'setosa,0.2,1.4,2.9,4.4',\n",
       " 'setosa,0.1,1.5,3.1,4.9',\n",
       " 'setosa,0.2,1.5,3.7,5.4',\n",
       " 'setosa,0.2,1.6,3.4,4.8',\n",
       " 'setosa,0.1,1.4,3.0,4.8',\n",
       " 'setosa,0.1,1.1,3.0,4.3',\n",
       " 'setosa,0.2,1.2,4.0,5.8',\n",
       " 'setosa,0.4,1.5,4.4,5.7',\n",
       " 'setosa,0.4,1.3,3.9,5.4',\n",
       " 'setosa,0.3,1.4,3.5,5.1',\n",
       " 'setosa,0.3,1.7,3.8,5.7',\n",
       " 'setosa,0.3,1.5,3.8,5.1',\n",
       " 'setosa,0.2,1.7,3.4,5.4',\n",
       " 'setosa,0.4,1.5,3.7,5.1',\n",
       " 'setosa,0.2,1.0,3.6,4.6',\n",
       " 'setosa,0.5,1.7,3.3,5.1',\n",
       " 'setosa,0.2,1.9,3.4,4.8',\n",
       " 'setosa,0.2,1.6,3.0,5.0',\n",
       " 'setosa,0.4,1.6,3.4,5.0',\n",
       " 'setosa,0.2,1.5,3.5,5.2',\n",
       " 'setosa,0.2,1.4,3.4,5.2',\n",
       " 'setosa,0.2,1.6,3.2,4.7',\n",
       " 'setosa,0.2,1.6,3.1,4.8',\n",
       " 'setosa,0.4,1.5,3.4,5.4',\n",
       " 'setosa,0.1,1.5,4.1,5.2',\n",
       " 'setosa,0.2,1.4,4.2,5.5',\n",
       " 'setosa,0.1,1.5,3.1,4.9',\n",
       " 'setosa,0.2,1.2,3.2,5.0',\n",
       " 'setosa,0.2,1.3,3.5,5.5',\n",
       " 'setosa,0.1,1.5,3.1,4.9',\n",
       " 'setosa,0.2,1.3,3.0,4.4',\n",
       " 'setosa,0.2,1.5,3.4,5.1',\n",
       " 'setosa,0.3,1.3,3.5,5.0',\n",
       " 'setosa,0.3,1.3,2.3,4.5',\n",
       " 'setosa,0.2,1.3,3.2,4.4',\n",
       " 'setosa,0.6,1.6,3.5,5.0',\n",
       " 'setosa,0.4,1.9,3.8,5.1',\n",
       " 'setosa,0.3,1.4,3.0,4.8',\n",
       " 'setosa,0.2,1.6,3.8,5.1',\n",
       " 'setosa,0.2,1.4,3.2,4.6',\n",
       " 'setosa,0.2,1.5,3.7,5.3',\n",
       " 'setosa,0.2,1.4,3.3,5.0',\n",
       " 'versicolor,1.4,4.7,3.2,7.0',\n",
       " 'versicolor,1.5,4.5,3.2,6.4',\n",
       " 'versicolor,1.5,4.9,3.1,6.9',\n",
       " 'versicolor,1.3,4.0,2.3,5.5',\n",
       " 'versicolor,1.5,4.6,2.8,6.5',\n",
       " 'versicolor,1.3,4.5,2.8,5.7',\n",
       " 'versicolor,1.6,4.7,3.3,6.3',\n",
       " 'versicolor,1.0,3.3,2.4,4.9',\n",
       " 'versicolor,1.3,4.6,2.9,6.6',\n",
       " 'versicolor,1.4,3.9,2.7,5.2',\n",
       " 'versicolor,1.0,3.5,2.0,5.0',\n",
       " 'versicolor,1.5,4.2,3.0,5.9',\n",
       " 'versicolor,1.0,4.0,2.2,6.0',\n",
       " 'versicolor,1.4,4.7,2.9,6.1',\n",
       " 'versicolor,1.3,3.6,2.9,5.6',\n",
       " 'versicolor,1.4,4.4,3.1,6.7',\n",
       " 'versicolor,1.5,4.5,3.0,5.6',\n",
       " 'versicolor,1.0,4.1,2.7,5.8',\n",
       " 'versicolor,1.5,4.5,2.2,6.2',\n",
       " 'versicolor,1.1,3.9,2.5,5.6',\n",
       " 'versicolor,1.8,4.8,3.2,5.9',\n",
       " 'versicolor,1.3,4.0,2.8,6.1',\n",
       " 'versicolor,1.5,4.9,2.5,6.3',\n",
       " 'versicolor,1.2,4.7,2.8,6.1',\n",
       " 'versicolor,1.3,4.3,2.9,6.4',\n",
       " 'versicolor,1.4,4.4,3.0,6.6',\n",
       " 'versicolor,1.4,4.8,2.8,6.8',\n",
       " 'versicolor,1.7,5.0,3.0,6.7',\n",
       " 'versicolor,1.5,4.5,2.9,6.0',\n",
       " 'versicolor,1.0,3.5,2.6,5.7',\n",
       " 'versicolor,1.1,3.8,2.4,5.5',\n",
       " 'versicolor,1.0,3.7,2.4,5.5',\n",
       " 'versicolor,1.2,3.9,2.7,5.8',\n",
       " 'versicolor,1.6,5.1,2.7,6.0',\n",
       " 'versicolor,1.5,4.5,3.0,5.4',\n",
       " 'versicolor,1.6,4.5,3.4,6.0',\n",
       " 'versicolor,1.5,4.7,3.1,6.7',\n",
       " 'versicolor,1.3,4.4,2.3,6.3',\n",
       " 'versicolor,1.3,4.1,3.0,5.6',\n",
       " 'versicolor,1.3,4.0,2.5,5.5',\n",
       " 'versicolor,1.2,4.4,2.6,5.5',\n",
       " 'versicolor,1.4,4.6,3.0,6.1',\n",
       " 'versicolor,1.2,4.0,2.6,5.8',\n",
       " 'versicolor,1.0,3.3,2.3,5.0',\n",
       " 'versicolor,1.3,4.2,2.7,5.6',\n",
       " 'versicolor,1.2,4.2,3.0,5.7',\n",
       " 'versicolor,1.3,4.2,2.9,5.7',\n",
       " 'versicolor,1.3,4.3,2.9,6.2',\n",
       " 'versicolor,1.1,3.0,2.5,5.1',\n",
       " 'versicolor,1.3,4.1,2.8,5.7',\n",
       " 'virginica,2.5,6.0,3.3,6.3',\n",
       " 'virginica,1.9,5.1,2.7,5.8',\n",
       " 'virginica,2.1,5.9,3.0,7.1',\n",
       " 'virginica,1.8,5.6,2.9,6.3',\n",
       " 'virginica,2.2,5.8,3.0,6.5',\n",
       " 'virginica,2.1,6.6,3.0,7.6',\n",
       " 'virginica,1.7,4.5,2.5,4.9',\n",
       " 'virginica,1.8,6.3,2.9,7.3',\n",
       " 'virginica,1.8,5.8,2.5,6.7',\n",
       " 'virginica,2.5,6.1,3.6,7.2',\n",
       " 'virginica,2.0,5.1,3.2,6.5',\n",
       " 'virginica,1.9,5.3,2.7,6.4',\n",
       " 'virginica,2.1,5.5,3.0,6.8',\n",
       " 'virginica,2.0,5.0,2.5,5.7',\n",
       " 'virginica,2.4,5.1,2.8,5.8',\n",
       " 'virginica,2.3,5.3,3.2,6.4',\n",
       " 'virginica,1.8,5.5,3.0,6.5',\n",
       " 'virginica,2.2,6.7,3.8,7.7',\n",
       " 'virginica,2.3,6.9,2.6,7.7',\n",
       " 'virginica,1.5,5.0,2.2,6.0',\n",
       " 'virginica,2.3,5.7,3.2,6.9',\n",
       " 'virginica,2.0,4.9,2.8,5.6',\n",
       " 'virginica,2.0,6.7,2.8,7.7',\n",
       " 'virginica,1.8,4.9,2.7,6.3',\n",
       " 'virginica,2.1,5.7,3.3,6.7',\n",
       " 'virginica,1.8,6.0,3.2,7.2',\n",
       " 'virginica,1.8,4.8,2.8,6.2',\n",
       " 'virginica,1.8,4.9,3.0,6.1',\n",
       " 'virginica,2.1,5.6,2.8,6.4',\n",
       " 'virginica,1.6,5.8,3.0,7.2',\n",
       " 'virginica,1.9,6.1,2.8,7.4',\n",
       " 'virginica,2.0,6.4,3.8,7.9',\n",
       " 'virginica,2.2,5.6,2.8,6.4',\n",
       " 'virginica,1.5,5.1,2.8,6.3',\n",
       " 'virginica,1.4,5.6,2.6,6.1',\n",
       " 'virginica,2.3,6.1,3.0,7.7',\n",
       " 'virginica,2.4,5.6,3.4,6.3',\n",
       " 'virginica,1.8,5.5,3.1,6.4',\n",
       " 'virginica,1.8,4.8,3.0,6.0',\n",
       " 'virginica,2.1,5.4,3.1,6.9',\n",
       " 'virginica,2.4,5.6,3.1,6.7',\n",
       " 'virginica,2.3,5.1,3.1,6.9',\n",
       " 'virginica,1.9,5.1,2.7,5.8',\n",
       " 'virginica,2.3,5.9,3.2,6.8',\n",
       " 'virginica,2.5,5.7,3.3,6.7',\n",
       " 'virginica,2.3,5.2,3.0,6.7',\n",
       " 'virginica,1.9,5.0,2.5,6.3',\n",
       " 'virginica,2.0,5.2,3.0,6.5',\n",
       " 'virginica,2.3,5.4,3.4,6.2',\n",
       " 'virginica,1.8,5.1,3.0,5.9']"
      ]
     },
     "execution_count": 68,
     "metadata": {},
     "output_type": "execute_result"
    }
   ],
   "source": [
    "[reverse_iris.sub(r'\\5,\\4,\\3,\\2,\\1', line) for line in iris if line]"
   ]
  },
  {
   "cell_type": "markdown",
   "id": "22b455fa",
   "metadata": {},
   "source": [
    "## Exercise 2\n",
    "\n",
    "***\n",
    "\n",
    "**Adapt the above code to capitalise the first letter of the iris species, using regular expressions.**\n",
    "https://www.geeksforgeeks.org/string-capitalize-python/\n",
    "https://stackoverflow.com/questions/4145451/using-a-regular-expression-to-replace-upper-case-repeated-letters-in-python-with"
   ]
  },
  {
   "cell_type": "code",
   "execution_count": 69,
   "id": "fec3a0de",
   "metadata": {},
   "outputs": [
    {
     "data": {
      "text/plain": [
       "['5.1,3.5,1.4,0.2,Setosa',\n",
       " '4.9,3.0,1.4,0.2,Setosa',\n",
       " '4.7,3.2,1.3,0.2,Setosa',\n",
       " '4.6,3.1,1.5,0.2,Setosa',\n",
       " '5.0,3.6,1.4,0.2,Setosa',\n",
       " '5.4,3.9,1.7,0.4,Setosa',\n",
       " '4.6,3.4,1.4,0.3,Setosa',\n",
       " '5.0,3.4,1.5,0.2,Setosa',\n",
       " '4.4,2.9,1.4,0.2,Setosa',\n",
       " '4.9,3.1,1.5,0.1,Setosa',\n",
       " '5.4,3.7,1.5,0.2,Setosa',\n",
       " '4.8,3.4,1.6,0.2,Setosa',\n",
       " '4.8,3.0,1.4,0.1,Setosa',\n",
       " '4.3,3.0,1.1,0.1,Setosa',\n",
       " '5.8,4.0,1.2,0.2,Setosa',\n",
       " '5.7,4.4,1.5,0.4,Setosa',\n",
       " '5.4,3.9,1.3,0.4,Setosa',\n",
       " '5.1,3.5,1.4,0.3,Setosa',\n",
       " '5.7,3.8,1.7,0.3,Setosa',\n",
       " '5.1,3.8,1.5,0.3,Setosa',\n",
       " '5.4,3.4,1.7,0.2,Setosa',\n",
       " '5.1,3.7,1.5,0.4,Setosa',\n",
       " '4.6,3.6,1.0,0.2,Setosa',\n",
       " '5.1,3.3,1.7,0.5,Setosa',\n",
       " '4.8,3.4,1.9,0.2,Setosa',\n",
       " '5.0,3.0,1.6,0.2,Setosa',\n",
       " '5.0,3.4,1.6,0.4,Setosa',\n",
       " '5.2,3.5,1.5,0.2,Setosa',\n",
       " '5.2,3.4,1.4,0.2,Setosa',\n",
       " '4.7,3.2,1.6,0.2,Setosa',\n",
       " '4.8,3.1,1.6,0.2,Setosa',\n",
       " '5.4,3.4,1.5,0.4,Setosa',\n",
       " '5.2,4.1,1.5,0.1,Setosa',\n",
       " '5.5,4.2,1.4,0.2,Setosa',\n",
       " '4.9,3.1,1.5,0.1,Setosa',\n",
       " '5.0,3.2,1.2,0.2,Setosa',\n",
       " '5.5,3.5,1.3,0.2,Setosa',\n",
       " '4.9,3.1,1.5,0.1,Setosa',\n",
       " '4.4,3.0,1.3,0.2,Setosa',\n",
       " '5.1,3.4,1.5,0.2,Setosa',\n",
       " '5.0,3.5,1.3,0.3,Setosa',\n",
       " '4.5,2.3,1.3,0.3,Setosa',\n",
       " '4.4,3.2,1.3,0.2,Setosa',\n",
       " '5.0,3.5,1.6,0.6,Setosa',\n",
       " '5.1,3.8,1.9,0.4,Setosa',\n",
       " '4.8,3.0,1.4,0.3,Setosa',\n",
       " '5.1,3.8,1.6,0.2,Setosa',\n",
       " '4.6,3.2,1.4,0.2,Setosa',\n",
       " '5.3,3.7,1.5,0.2,Setosa',\n",
       " '5.0,3.3,1.4,0.2,Setosa',\n",
       " '7.0,3.2,4.7,1.4,Versicolor',\n",
       " '6.4,3.2,4.5,1.5,Versicolor',\n",
       " '6.9,3.1,4.9,1.5,Versicolor',\n",
       " '5.5,2.3,4.0,1.3,Versicolor',\n",
       " '6.5,2.8,4.6,1.5,Versicolor',\n",
       " '5.7,2.8,4.5,1.3,Versicolor',\n",
       " '6.3,3.3,4.7,1.6,Versicolor',\n",
       " '4.9,2.4,3.3,1.0,Versicolor',\n",
       " '6.6,2.9,4.6,1.3,Versicolor',\n",
       " '5.2,2.7,3.9,1.4,Versicolor',\n",
       " '5.0,2.0,3.5,1.0,Versicolor',\n",
       " '5.9,3.0,4.2,1.5,Versicolor',\n",
       " '6.0,2.2,4.0,1.0,Versicolor',\n",
       " '6.1,2.9,4.7,1.4,Versicolor',\n",
       " '5.6,2.9,3.6,1.3,Versicolor',\n",
       " '6.7,3.1,4.4,1.4,Versicolor',\n",
       " '5.6,3.0,4.5,1.5,Versicolor',\n",
       " '5.8,2.7,4.1,1.0,Versicolor',\n",
       " '6.2,2.2,4.5,1.5,Versicolor',\n",
       " '5.6,2.5,3.9,1.1,Versicolor',\n",
       " '5.9,3.2,4.8,1.8,Versicolor',\n",
       " '6.1,2.8,4.0,1.3,Versicolor',\n",
       " '6.3,2.5,4.9,1.5,Versicolor',\n",
       " '6.1,2.8,4.7,1.2,Versicolor',\n",
       " '6.4,2.9,4.3,1.3,Versicolor',\n",
       " '6.6,3.0,4.4,1.4,Versicolor',\n",
       " '6.8,2.8,4.8,1.4,Versicolor',\n",
       " '6.7,3.0,5.0,1.7,Versicolor',\n",
       " '6.0,2.9,4.5,1.5,Versicolor',\n",
       " '5.7,2.6,3.5,1.0,Versicolor',\n",
       " '5.5,2.4,3.8,1.1,Versicolor',\n",
       " '5.5,2.4,3.7,1.0,Versicolor',\n",
       " '5.8,2.7,3.9,1.2,Versicolor',\n",
       " '6.0,2.7,5.1,1.6,Versicolor',\n",
       " '5.4,3.0,4.5,1.5,Versicolor',\n",
       " '6.0,3.4,4.5,1.6,Versicolor',\n",
       " '6.7,3.1,4.7,1.5,Versicolor',\n",
       " '6.3,2.3,4.4,1.3,Versicolor',\n",
       " '5.6,3.0,4.1,1.3,Versicolor',\n",
       " '5.5,2.5,4.0,1.3,Versicolor',\n",
       " '5.5,2.6,4.4,1.2,Versicolor',\n",
       " '6.1,3.0,4.6,1.4,Versicolor',\n",
       " '5.8,2.6,4.0,1.2,Versicolor',\n",
       " '5.0,2.3,3.3,1.0,Versicolor',\n",
       " '5.6,2.7,4.2,1.3,Versicolor',\n",
       " '5.7,3.0,4.2,1.2,Versicolor',\n",
       " '5.7,2.9,4.2,1.3,Versicolor',\n",
       " '6.2,2.9,4.3,1.3,Versicolor',\n",
       " '5.1,2.5,3.0,1.1,Versicolor',\n",
       " '5.7,2.8,4.1,1.3,Versicolor',\n",
       " '6.3,3.3,6.0,2.5,Virginica',\n",
       " '5.8,2.7,5.1,1.9,Virginica',\n",
       " '7.1,3.0,5.9,2.1,Virginica',\n",
       " '6.3,2.9,5.6,1.8,Virginica',\n",
       " '6.5,3.0,5.8,2.2,Virginica',\n",
       " '7.6,3.0,6.6,2.1,Virginica',\n",
       " '4.9,2.5,4.5,1.7,Virginica',\n",
       " '7.3,2.9,6.3,1.8,Virginica',\n",
       " '6.7,2.5,5.8,1.8,Virginica',\n",
       " '7.2,3.6,6.1,2.5,Virginica',\n",
       " '6.5,3.2,5.1,2.0,Virginica',\n",
       " '6.4,2.7,5.3,1.9,Virginica',\n",
       " '6.8,3.0,5.5,2.1,Virginica',\n",
       " '5.7,2.5,5.0,2.0,Virginica',\n",
       " '5.8,2.8,5.1,2.4,Virginica',\n",
       " '6.4,3.2,5.3,2.3,Virginica',\n",
       " '6.5,3.0,5.5,1.8,Virginica',\n",
       " '7.7,3.8,6.7,2.2,Virginica',\n",
       " '7.7,2.6,6.9,2.3,Virginica',\n",
       " '6.0,2.2,5.0,1.5,Virginica',\n",
       " '6.9,3.2,5.7,2.3,Virginica',\n",
       " '5.6,2.8,4.9,2.0,Virginica',\n",
       " '7.7,2.8,6.7,2.0,Virginica',\n",
       " '6.3,2.7,4.9,1.8,Virginica',\n",
       " '6.7,3.3,5.7,2.1,Virginica',\n",
       " '7.2,3.2,6.0,1.8,Virginica',\n",
       " '6.2,2.8,4.8,1.8,Virginica',\n",
       " '6.1,3.0,4.9,1.8,Virginica',\n",
       " '6.4,2.8,5.6,2.1,Virginica',\n",
       " '7.2,3.0,5.8,1.6,Virginica',\n",
       " '7.4,2.8,6.1,1.9,Virginica',\n",
       " '7.9,3.8,6.4,2.0,Virginica',\n",
       " '6.4,2.8,5.6,2.2,Virginica',\n",
       " '6.3,2.8,5.1,1.5,Virginica',\n",
       " '6.1,2.6,5.6,1.4,Virginica',\n",
       " '7.7,3.0,6.1,2.3,Virginica',\n",
       " '6.3,3.4,5.6,2.4,Virginica',\n",
       " '6.4,3.1,5.5,1.8,Virginica',\n",
       " '6.0,3.0,4.8,1.8,Virginica',\n",
       " '6.9,3.1,5.4,2.1,Virginica',\n",
       " '6.7,3.1,5.6,2.4,Virginica',\n",
       " '6.9,3.1,5.1,2.3,Virginica',\n",
       " '5.8,2.7,5.1,1.9,Virginica',\n",
       " '6.8,3.2,5.9,2.3,Virginica',\n",
       " '6.7,3.3,5.7,2.5,Virginica',\n",
       " '6.7,3.0,5.2,2.3,Virginica',\n",
       " '6.3,2.5,5.0,1.9,Virginica',\n",
       " '6.5,3.0,5.2,2.0,Virginica',\n",
       " '6.2,3.4,5.4,2.3,Virginica',\n",
       " '5.9,3.0,5.1,1.8,Virginica']"
      ]
     },
     "execution_count": 69,
     "metadata": {},
     "output_type": "execute_result"
    }
   ],
   "source": [
    "# Remove the species name and - 'Iris-'\n",
    "# Compile the regex\n",
    "strip_iris = re.compile(r'Iris-([a-z]+)')\n",
    "capitalize_iris = [strip_iris.sub(r'\\1', line) for line in iris if line]\n",
    "def f(first):\n",
    "    return first.group().capitalize()\n",
    "[re.sub(r'\\b([a-z]+)', f, line) for line in capitalize_iris]"
   ]
  }
 ],
 "metadata": {
  "kernelspec": {
   "display_name": "Python 3 (ipykernel)",
   "language": "python",
   "name": "python3"
  },
  "language_info": {
   "codemirror_mode": {
    "name": "ipython",
    "version": 3
   },
   "file_extension": ".py",
   "mimetype": "text/x-python",
   "name": "python",
   "nbconvert_exporter": "python",
   "pygments_lexer": "ipython3",
   "version": "3.9.7"
  }
 },
 "nbformat": 4,
 "nbformat_minor": 5
}
