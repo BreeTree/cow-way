{
 "cells": [
  {
   "cell_type": "markdown",
   "id": "09dd7f14",
   "metadata": {},
   "source": [
    "# Regular Expressions\n",
    "\n",
    "***\n",
    "\n",
    "https://docs.python.org/3/library/re.html\n",
    "\n",
    "https://realpython.com/regex-python/\n",
    "\n",
    "https://realpython.com/regex-python-part-2/\n",
    "\n",
    "https://developers.google.com/edu/python/regular-expressions\n",
    "\n",
    "https://librarycarpentry.org/lc-data-intro/01-regular-expressions/\n",
    "\n"
   ]
  },
  {
   "cell_type": "markdown",
   "id": "47df341c",
   "metadata": {},
   "source": [
    "## Python's re module\n",
    "Included by default in Python, Lengthy documentation available. \n",
    "Re has lots of different methods and functions. re.split very handy. \n",
    "\n",
    "Regular expressions find patterns in text. "
   ]
  },
  {
   "cell_type": "code",
   "execution_count": 1,
   "id": "24b8585c",
   "metadata": {},
   "outputs": [],
   "source": [
    "import re"
   ]
  },
  {
   "cell_type": "code",
   "execution_count": 2,
   "id": "39d22151",
   "metadata": {},
   "outputs": [
    {
     "name": "stdout",
     "output_type": "stream",
     "text": [
      "['Words', 'words', 'words', '']\n"
     ]
    }
   ],
   "source": [
    "# A string to be manipulated\n",
    "original = \"Words, words, words.\"\n",
    "\n",
    "# The pattern/regular expression to use on the above string\n",
    "pattern_1 = r'\\W+'\n",
    "\n",
    "# Splits a string into substrings using a regular expression. \n",
    "result_1 = re.split(pattern_1, original)\n",
    "\n",
    "# Print the result\n",
    "print(result_1)"
   ]
  },
  {
   "cell_type": "markdown",
   "id": "9f77da09",
   "metadata": {},
   "source": [
    "Backslash in strings usually means 'escape the following character' \n",
    "\\r carriage return\n",
    "\\n new line\n",
    "\n",
    "An r in front of your string as in `pattern` above denotes 'raw'. It means 'do not escape any of your characters'\n",
    "\n",
    "Split takes a string and returns a list of strings\n",
    "\n",
    "\\W generally means white space. Matches any character which is not a word character.\n",
    "\n",
    "\\W = ``[^a-zA-Z0-9_]`` will not match  any character, lower case, upper case, single digit and underscore. The match will happen with the single character\n",
    "\n",
    "The ^ means NOT\n",
    "\n",
    "\\w = ``[a-zA-Z0-9_]`` will match any character, lower case, upper case, single digit and underscore. The match will happen with the single character\n",
    "\n",
    "`+` is a quantifier. It means how many of the previous thing you want to match... one or more of the previous thing. It's greedy - it will match as many as it can. \n",
    "\n",
    "The final substring in the list is empty because the '.' matches \\W. The split occurs but it is empty. "
   ]
  },
  {
   "cell_type": "code",
   "execution_count": 3,
   "id": "94e293d7",
   "metadata": {},
   "outputs": [
    {
     "name": "stdout",
     "output_type": "stream",
     "text": [
      "<re.Match object; span=(0, 5), match='Words'>\n"
     ]
    }
   ],
   "source": [
    "original = \"Words, words, words.\"\n",
    "\n",
    "# The pattern/regular expression to use on the above string\n",
    "pattern_2 = r'(\\w+)'\n",
    "\n",
    "# Splits a string into substrings using a regular expression. \n",
    "result_2 = re.search(pattern_2, original)\n",
    "print(result_2)"
   ]
  },
  {
   "cell_type": "code",
   "execution_count": 4,
   "id": "a1f6fe9b",
   "metadata": {},
   "outputs": [
    {
     "data": {
      "text/plain": [
       "['Words', 'words, words.']"
      ]
     },
     "execution_count": 4,
     "metadata": {},
     "output_type": "execute_result"
    }
   ],
   "source": [
    "re.split(r'\\W+', 'Words, words, words.', 1)"
   ]
  },
  {
   "cell_type": "code",
   "execution_count": 5,
   "id": "32683ae7",
   "metadata": {},
   "outputs": [
    {
     "data": {
      "text/plain": [
       "['0', '3', '9']"
      ]
     },
     "execution_count": 5,
     "metadata": {},
     "output_type": "execute_result"
    }
   ],
   "source": [
    "# for characters a-f in any case, in the given expression, returns the integers.\n",
    "re.split('[a-f]+', '0a3B9', flags=re.IGNORECASE)"
   ]
  },
  {
   "cell_type": "markdown",
   "id": "e510079b",
   "metadata": {},
   "source": [
    "## Real Python\n",
    "Following this article https://realpython.com/regex-python/\n",
    "`re.search(<regex>, <string>)`\n",
    "A regular expression that is supposed to match a string.  Can be ambiguous. \n",
    "\n",
    "Sometimes you will want the whole string has to match the regular expression. \n",
    "\n",
    "Sometimes you will want to match the substring.\n",
    "\n",
    "A set of characters specified in square brackets ([]) makes up a character class.The special characters match any single character that is in the class\n"
   ]
  },
  {
   "cell_type": "code",
   "execution_count": 6,
   "id": "5dff43f4",
   "metadata": {},
   "outputs": [
    {
     "data": {
      "text/plain": [
       "True"
      ]
     },
     "execution_count": 6,
     "metadata": {},
     "output_type": "execute_result"
    }
   ],
   "source": [
    "'abc' == 'abc'"
   ]
  },
  {
   "cell_type": "code",
   "execution_count": 7,
   "id": "fbb981a3",
   "metadata": {},
   "outputs": [
    {
     "data": {
      "text/plain": [
       "False"
      ]
     },
     "execution_count": 7,
     "metadata": {},
     "output_type": "execute_result"
    }
   ],
   "source": [
    "'cda' == 'pda'"
   ]
  },
  {
   "cell_type": "code",
   "execution_count": 8,
   "id": "8d1fef5d",
   "metadata": {},
   "outputs": [
    {
     "data": {
      "text/plain": [
       "False"
      ]
     },
     "execution_count": 8,
     "metadata": {},
     "output_type": "execute_result"
    }
   ],
   "source": [
    "'abc' in 'cab'"
   ]
  },
  {
   "cell_type": "code",
   "execution_count": 9,
   "id": "6130c1aa",
   "metadata": {},
   "outputs": [
    {
     "data": {
      "text/plain": [
       "True"
      ]
     },
     "execution_count": 9,
     "metadata": {},
     "output_type": "execute_result"
    }
   ],
   "source": [
    "'abc' in 'cababc'"
   ]
  },
  {
   "cell_type": "code",
   "execution_count": 10,
   "id": "12d772a3",
   "metadata": {},
   "outputs": [
    {
     "data": {
      "text/plain": [
       "2"
      ]
     },
     "execution_count": 10,
     "metadata": {},
     "output_type": "execute_result"
    }
   ],
   "source": [
    "'cbabac'.index('a')"
   ]
  },
  {
   "cell_type": "code",
   "execution_count": 11,
   "id": "a210a89f",
   "metadata": {},
   "outputs": [
    {
     "data": {
      "text/plain": [
       "'a'"
      ]
     },
     "execution_count": 11,
     "metadata": {},
     "output_type": "execute_result"
    }
   ],
   "source": [
    "'cbabac'[2]"
   ]
  },
  {
   "cell_type": "code",
   "execution_count": 12,
   "id": "1382044d",
   "metadata": {},
   "outputs": [
    {
     "data": {
      "text/plain": [
       "2"
      ]
     },
     "execution_count": 12,
     "metadata": {},
     "output_type": "execute_result"
    }
   ],
   "source": [
    "'cbaabc'.find('aa')"
   ]
  },
  {
   "cell_type": "code",
   "execution_count": 13,
   "id": "8abdc3f1",
   "metadata": {},
   "outputs": [
    {
     "data": {
      "text/plain": [
       "<re.Match object; span=(3, 6), match='123'>"
      ]
     },
     "execution_count": 13,
     "metadata": {},
     "output_type": "execute_result"
    }
   ],
   "source": [
    "s = 'foo123bar'\n",
    "\n",
    "re.search('123', s)"
   ]
  },
  {
   "cell_type": "code",
   "execution_count": 14,
   "id": "ca577d4e",
   "metadata": {},
   "outputs": [
    {
     "data": {
      "text/plain": [
       "'123'"
      ]
     },
     "execution_count": 14,
     "metadata": {},
     "output_type": "execute_result"
    }
   ],
   "source": [
    "s[3:6]"
   ]
  },
  {
   "cell_type": "code",
   "execution_count": 15,
   "id": "25cfdf8d",
   "metadata": {},
   "outputs": [
    {
     "data": {
      "text/plain": [
       "<re.Match object; span=(3, 6), match='123'>"
      ]
     },
     "execution_count": 15,
     "metadata": {},
     "output_type": "execute_result"
    }
   ],
   "source": [
    "s = 'foo123bar'\n",
    "re.search(r'[0-9][0-9][0-9]', s)"
   ]
  },
  {
   "cell_type": "code",
   "execution_count": 16,
   "id": "c5858e10",
   "metadata": {},
   "outputs": [
    {
     "data": {
      "text/plain": [
       "<re.Match object; span=(3, 6), match='456'>"
      ]
     },
     "execution_count": 16,
     "metadata": {},
     "output_type": "execute_result"
    }
   ],
   "source": [
    "re.search(r'[0-9][0-9][0-9]', 'foo456bar')"
   ]
  },
  {
   "cell_type": "code",
   "execution_count": 17,
   "id": "bd0916f1",
   "metadata": {},
   "outputs": [
    {
     "data": {
      "text/plain": [
       "<re.Match object; span=(0, 3), match='234'>"
      ]
     },
     "execution_count": 17,
     "metadata": {},
     "output_type": "execute_result"
    }
   ],
   "source": [
    "re.search(r'[0-9][0-9][0-9]', '234baz')"
   ]
  },
  {
   "cell_type": "code",
   "execution_count": 18,
   "id": "afe20618",
   "metadata": {},
   "outputs": [
    {
     "data": {
      "text/plain": [
       "<re.Match object; span=(3, 6), match='678'>"
      ]
     },
     "execution_count": 18,
     "metadata": {},
     "output_type": "execute_result"
    }
   ],
   "source": [
    "re.search(r'[0-9][0-9][0-9]', 'qux678')"
   ]
  },
  {
   "cell_type": "code",
   "execution_count": 19,
   "id": "ced5c321",
   "metadata": {},
   "outputs": [
    {
     "name": "stdout",
     "output_type": "stream",
     "text": [
      "None\n"
     ]
    }
   ],
   "source": [
    "print(re.search(r'[0-9][0-9][0-9]', '12foo34'))"
   ]
  },
  {
   "cell_type": "code",
   "execution_count": 20,
   "id": "d4ba2eb5",
   "metadata": {},
   "outputs": [
    {
     "data": {
      "text/plain": [
       "<re.Match object; span=(3, 6), match='123'>"
      ]
     },
     "execution_count": 20,
     "metadata": {},
     "output_type": "execute_result"
    }
   ],
   "source": [
    "s = 'foo123bar'\n",
    "re.search('1.3', s)\n"
   ]
  },
  {
   "cell_type": "code",
   "execution_count": 21,
   "id": "1441e1dc",
   "metadata": {},
   "outputs": [
    {
     "name": "stdout",
     "output_type": "stream",
     "text": [
      "None\n"
     ]
    }
   ],
   "source": [
    "s = 'foo13bar'\n",
    "print(re.search('1.3', s))"
   ]
  },
  {
   "cell_type": "markdown",
   "id": "14e2dd9a",
   "metadata": {},
   "source": [
    "## Google Education\n",
    "***\n",
    "https://developers.google.com/edu/python/regular-expressions\n"
   ]
  },
  {
   "cell_type": "code",
   "execution_count": 22,
   "id": "3ba8217c",
   "metadata": {},
   "outputs": [
    {
     "name": "stdout",
     "output_type": "stream",
     "text": [
      "found word:cat\n"
     ]
    }
   ],
   "source": [
    "import re\n",
    "\n",
    "str = 'an example word:cat!!'\n",
    "match = re.search(r'word:\\w\\w\\w', str)\n",
    "# If-statement after search() tests if it succeeded\n",
    "if match:\n",
    "  print('found', match.group()) ## 'found word:cat'\n",
    "else:\n",
    "  print('did not find')"
   ]
  },
  {
   "cell_type": "code",
   "execution_count": 23,
   "id": "a3521fc3",
   "metadata": {},
   "outputs": [
    {
     "data": {
      "text/plain": [
       "<re.Match object; span=(0, 6), match='aaaaaa'>"
      ]
     },
     "execution_count": 23,
     "metadata": {},
     "output_type": "execute_result"
    }
   ],
   "source": [
    "string = 'aaaaaa'\n",
    "pattern = r'a+'\n",
    "\n",
    "re.search(pattern, string)"
   ]
  },
  {
   "cell_type": "code",
   "execution_count": 24,
   "id": "48950a6c",
   "metadata": {},
   "outputs": [
    {
     "data": {
      "text/plain": [
       "<re.Match object; span=(0, 4), match='aaaa'>"
      ]
     },
     "execution_count": 24,
     "metadata": {},
     "output_type": "execute_result"
    }
   ],
   "source": [
    "string = 'aaaabaa'\n",
    "pattern = r'a+'\n",
    "\n",
    "re.search(pattern, string)"
   ]
  },
  {
   "cell_type": "markdown",
   "id": "90a0d368",
   "metadata": {},
   "source": [
    "#### Repetitions"
   ]
  },
  {
   "cell_type": "code",
   "execution_count": 25,
   "id": "2c44f48c",
   "metadata": {},
   "outputs": [
    {
     "data": {
      "text/plain": [
       "<re.Match object; span=(0, 4), match='piii'>"
      ]
     },
     "execution_count": 25,
     "metadata": {},
     "output_type": "execute_result"
    }
   ],
   "source": [
    "# i+ = one or more i's, as many as possible.\n",
    "match = re.search(r'pi+', 'piiig') # found, match.group() == \"piii\"\n",
    "match"
   ]
  },
  {
   "cell_type": "code",
   "execution_count": 26,
   "id": "b476b68e",
   "metadata": {},
   "outputs": [
    {
     "data": {
      "text/plain": [
       "<re.Match object; span=(1, 3), match='ii'>"
      ]
     },
     "execution_count": 26,
     "metadata": {},
     "output_type": "execute_result"
    }
   ],
   "source": [
    "# Finds the first/leftmost solution, and within it drives the +\n",
    "# as far as possible (aka 'leftmost and largest').\n",
    "# In this example, note that it does not get to the second set of i's.\n",
    "match = re.search(r'i+', 'piigiiii') # found, match.group() == \"ii\"\n",
    "match"
   ]
  },
  {
   "cell_type": "code",
   "execution_count": 27,
   "id": "ce40ff68",
   "metadata": {},
   "outputs": [
    {
     "data": {
      "text/plain": [
       "<re.Match object; span=(2, 9), match='1 2   3'>"
      ]
     },
     "execution_count": 27,
     "metadata": {},
     "output_type": "execute_result"
    }
   ],
   "source": [
    "# \\s* = zero or more whitespace chars\n",
    "# Here look for 3 digits, possibly separated by whitespace.\n",
    "match = re.search(r'\\d\\s*\\d\\s*\\d', 'xx1 2   3xx') # found, match.group() == \"1 2   3\"\n",
    "match"
   ]
  },
  {
   "cell_type": "code",
   "execution_count": 28,
   "id": "bc883d9d",
   "metadata": {},
   "outputs": [
    {
     "data": {
      "text/plain": [
       "<re.Match object; span=(2, 7), match='12  3'>"
      ]
     },
     "execution_count": 28,
     "metadata": {},
     "output_type": "execute_result"
    }
   ],
   "source": [
    "match = re.search(r'\\d\\s*\\d\\s*\\d', 'xx12  3xx') # found, match.group() == \"12  3\"\n",
    "match"
   ]
  },
  {
   "cell_type": "code",
   "execution_count": 29,
   "id": "256eb0f6",
   "metadata": {},
   "outputs": [
    {
     "data": {
      "text/plain": [
       "<re.Match object; span=(2, 5), match='123'>"
      ]
     },
     "execution_count": 29,
     "metadata": {},
     "output_type": "execute_result"
    }
   ],
   "source": [
    "match = re.search(r'\\d\\s*\\d\\s*\\d', 'xx123xx') # found, match.group() == \"123\"\n",
    "match"
   ]
  },
  {
   "cell_type": "code",
   "execution_count": 30,
   "id": "ed68623b",
   "metadata": {},
   "outputs": [],
   "source": [
    "# ^ = matches the start of string, so this fails:\n",
    "match = re.search(r'^b\\w+', 'foobar') # not found, match == None\n",
    "match"
   ]
  },
  {
   "cell_type": "code",
   "execution_count": 31,
   "id": "f2795aa3",
   "metadata": {},
   "outputs": [
    {
     "data": {
      "text/plain": [
       "<re.Match object; span=(3, 6), match='bar'>"
      ]
     },
     "execution_count": 31,
     "metadata": {},
     "output_type": "execute_result"
    }
   ],
   "source": [
    "# but without the ^ it succeeds:\n",
    "match = re.search(r'b\\w+', 'foobar') # found, match.group() == \"bar\"\n",
    "match"
   ]
  },
  {
   "cell_type": "markdown",
   "id": "b0536e28",
   "metadata": {},
   "source": [
    "#### Email example"
   ]
  },
  {
   "cell_type": "code",
   "execution_count": 32,
   "id": "df9fde20",
   "metadata": {},
   "outputs": [
    {
     "name": "stdout",
     "output_type": "stream",
     "text": [
      "b@google\n"
     ]
    }
   ],
   "source": [
    "# Common use of regex to search for email addresses\n",
    "str = 'purple alice-b@google.com monkey dishwasher'\n",
    "match = re.search(r'\\w+@\\w+', str)\n",
    "if match:\n",
    "    print(match.group())  ## 'b@google'"
   ]
  },
  {
   "cell_type": "code",
   "execution_count": 33,
   "id": "b06ebd6b",
   "metadata": {},
   "outputs": [
    {
     "name": "stdout",
     "output_type": "stream",
     "text": [
      "alice-b@google.com\n"
     ]
    }
   ],
   "source": [
    "# use [] to indicate a group of characters or metacharacters \n",
    "# except dot (.) means literal dot (.) rather than matching any character \n",
    "match = re.search(r'[\\w.-]+@[\\w.-]+', str)\n",
    "if match:\n",
    "    print(match.group())  ## 'alice-b@google.com'"
   ]
  },
  {
   "cell_type": "markdown",
   "id": "3e5f69f5",
   "metadata": {},
   "source": [
    "### Regex resources \n",
    "Regex golf \n",
    "https://alf.nu/RegexGolf?world=regex&level=r00\n",
    "\n",
    "Regex 101 explains regular expression entered\n",
    "https://regex101.com/\n",
    "\n",
    "Enter reg expression for graphical analysis \n",
    "https://regexper.com/"
   ]
  },
  {
   "cell_type": "markdown",
   "id": "38f631eb",
   "metadata": {},
   "source": [
    "### Exercise 1 \n",
    "***\n",
    "Write a Python function to remove all non-alphanumeric characters from a string"
   ]
  },
  {
   "cell_type": "code",
   "execution_count": 34,
   "id": "6d477fd3",
   "metadata": {},
   "outputs": [
    {
     "name": "stdout",
     "output_type": "stream",
     "text": [
      "Codinglikepoetryshouldbeshortandconcise\n"
     ]
    }
   ],
   "source": [
    "# Adaped from https://bobbyhadz.com/blog/python-remove-non-alphanumeric-characters-from-string\n",
    "# For a given string\n",
    "my_str = 'Coding_ like- poetry| should{be}short#and; concise'\n",
    "\n",
    "# Remove all non-alphanumeric characters and white space from string \n",
    "new_str = re.sub(r'[\\W_]', '', my_str)\n",
    "\n",
    "print(new_str)"
   ]
  },
  {
   "cell_type": "code",
   "execution_count": null,
   "id": "67365264",
   "metadata": {},
   "outputs": [],
   "source": []
  }
 ],
 "metadata": {
  "kernelspec": {
   "display_name": "Python 3 (ipykernel)",
   "language": "python",
   "name": "python3"
  },
  "language_info": {
   "codemirror_mode": {
    "name": "ipython",
    "version": 3
   },
   "file_extension": ".py",
   "mimetype": "text/x-python",
   "name": "python",
   "nbconvert_exporter": "python",
   "pygments_lexer": "ipython3",
   "version": "3.9.7"
  }
 },
 "nbformat": 4,
 "nbformat_minor": 5
}
