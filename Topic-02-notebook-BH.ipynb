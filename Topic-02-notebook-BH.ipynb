{
 "cells": [
  {
   "cell_type": "markdown",
   "id": "856fb59c",
   "metadata": {},
   "source": [
    "# Topic 2 Randomness"
   ]
  },
  {
   "cell_type": "code",
   "execution_count": 1,
   "id": "b228f47f",
   "metadata": {},
   "outputs": [
    {
     "data": {
      "text/plain": [
       "0"
      ]
     },
     "execution_count": 1,
     "metadata": {},
     "output_type": "execute_result"
    }
   ],
   "source": [
    "# generating numbers\n",
    "import numpy as np\n",
    "\n",
    "# flip a fair coin - a single coin toss\n",
    "np.random.binomial(1, 0.5)"
   ]
  },
  {
   "cell_type": "code",
   "execution_count": 2,
   "id": "d165bf22",
   "metadata": {},
   "outputs": [
    {
     "data": {
      "text/plain": [
       "array([0, 1, 0, 0, 0, 0, 1, 1, 0, 0, 1, 0, 1, 0, 0, 1, 1, 1, 0, 0, 1, 1,\n",
       "       1, 0, 1, 1, 1, 1, 1, 1, 0, 0, 0, 0, 0, 0, 0, 0, 1, 0, 0, 1, 1, 1,\n",
       "       0, 1, 0, 1, 1, 1, 1, 0, 1, 1, 1, 0, 1, 1, 0, 1, 1, 0, 1, 1, 1, 1,\n",
       "       1, 1, 1, 0, 0, 1, 0, 0, 0, 1, 0, 0, 1, 0, 0, 1, 1, 0, 1, 0, 0, 0,\n",
       "       1, 1, 1, 1, 1, 1, 1, 1, 1, 0, 0, 0])"
      ]
     },
     "execution_count": 2,
     "metadata": {},
     "output_type": "execute_result"
    }
   ],
   "source": [
    "# Flip a fair coin 100 times.\n",
    "np.random.binomial(1, 0.5, 100)"
   ]
  },
  {
   "cell_type": "code",
   "execution_count": 5,
   "id": "af043317",
   "metadata": {},
   "outputs": [
    {
     "data": {
      "text/plain": [
       "54"
      ]
     },
     "execution_count": 5,
     "metadata": {},
     "output_type": "execute_result"
    }
   ],
   "source": [
    "# Flip a fair coin 100 times.\n",
    "np.random.binomial(100, 0.5)"
   ]
  },
  {
   "cell_type": "code",
   "execution_count": 6,
   "id": "bccf3c1d",
   "metadata": {},
   "outputs": [
    {
     "name": "stdout",
     "output_type": "stream",
     "text": [
      "[1 0 1 1 1 0 1 0 0 0]\n",
      "[1 0 0 0 1 1 1 0 0 1]\n",
      "[1 0 0 0 1 1 1 0 0 1]\n",
      "Total generated: 44\n"
     ]
    }
   ],
   "source": [
    "# Keep flipping coins until we get three examples of getting five heads in ten coin tosses.\n",
    "\n",
    "# Number of examples.\n",
    "N = 3\n",
    "\n",
    "# Keep track of number of arrays generated.\n",
    "total_no = 0\n",
    "\n",
    "# Keep trying until we get three examples.\n",
    "while N > 0:\n",
    "    # Add 1 to total.\n",
    "    total_no = total_no + 1\n",
    "    # Toss 10 coins.\n",
    "    tosses = np.random.binomial(1, 0.5, 10)\n",
    "    # Check if we got five heads.\n",
    "    if tosses.sum() == 5:\n",
    "        # If we got 5 heads, print the list of heads/tails.\n",
    "        print(tosses)\n",
    "        # Reduce the number of examples left to find by 1.\n",
    "        N = N - 1\n",
    "\n",
    "print(f'Total generated: {total_no}')"
   ]
  },
  {
   "cell_type": "markdown",
   "id": "66cf6f06",
   "metadata": {},
   "source": [
    "#### Key Question: \n",
    "How many other ways are there in total to flip ten coins and get five heads?"
   ]
  },
  {
   "cell_type": "code",
   "execution_count": 8,
   "id": "ed6959d2",
   "metadata": {},
   "outputs": [
    {
     "data": {
      "text/plain": [
       "252"
      ]
     },
     "execution_count": 8,
     "metadata": {},
     "output_type": "execute_result"
    }
   ],
   "source": [
    "(10 * 9 * 8 * 7 * 6) // (5 * 4 * 3 * 2 * 1)"
   ]
  },
  {
   "cell_type": "code",
   "execution_count": 9,
   "id": "bc6b6ae7",
   "metadata": {},
   "outputs": [
    {
     "data": {
      "text/plain": [
       "210"
      ]
     },
     "execution_count": 9,
     "metadata": {},
     "output_type": "execute_result"
    }
   ],
   "source": [
    "(10 * 9 * 8 * 7) // (4 * 3 * 2 * 1)"
   ]
  },
  {
   "cell_type": "code",
   "execution_count": 5,
   "id": "f3dbd8fe",
   "metadata": {},
   "outputs": [
    {
     "name": "stdout",
     "output_type": "stream",
     "text": [
      "( 1, 2)\n",
      "( 1, 3)\n",
      "( 1, 4)\n",
      "( 1, 5)\n",
      "( 1, 6)\n",
      "( 1, 7)\n",
      "( 1, 8)\n",
      "( 1, 9)\n",
      "( 1,10)\n",
      "( 2, 1)\n",
      "( 2, 3)\n",
      "( 2, 4)\n",
      "( 2, 5)\n",
      "( 2, 6)\n",
      "( 2, 7)\n",
      "( 2, 8)\n",
      "( 2, 9)\n",
      "( 2,10)\n",
      "( 3, 1)\n",
      "( 3, 2)\n",
      "( 3, 4)\n",
      "( 3, 5)\n",
      "( 3, 6)\n",
      "( 3, 7)\n",
      "( 3, 8)\n",
      "( 3, 9)\n",
      "( 3,10)\n",
      "( 4, 1)\n",
      "( 4, 2)\n",
      "( 4, 3)\n",
      "( 4, 5)\n",
      "( 4, 6)\n",
      "( 4, 7)\n",
      "( 4, 8)\n",
      "( 4, 9)\n",
      "( 4,10)\n",
      "( 5, 1)\n",
      "( 5, 2)\n",
      "( 5, 3)\n",
      "( 5, 4)\n",
      "( 5, 6)\n",
      "( 5, 7)\n",
      "( 5, 8)\n",
      "( 5, 9)\n",
      "( 5,10)\n",
      "( 6, 1)\n",
      "( 6, 2)\n",
      "( 6, 3)\n",
      "( 6, 4)\n",
      "( 6, 5)\n",
      "( 6, 7)\n",
      "( 6, 8)\n",
      "( 6, 9)\n",
      "( 6,10)\n",
      "( 7, 1)\n",
      "( 7, 2)\n",
      "( 7, 3)\n",
      "( 7, 4)\n",
      "( 7, 5)\n",
      "( 7, 6)\n",
      "( 7, 8)\n",
      "( 7, 9)\n",
      "( 7,10)\n",
      "( 8, 1)\n",
      "( 8, 2)\n",
      "( 8, 3)\n",
      "( 8, 4)\n",
      "( 8, 5)\n",
      "( 8, 6)\n",
      "( 8, 7)\n",
      "( 8, 9)\n",
      "( 8,10)\n",
      "( 9, 1)\n",
      "( 9, 2)\n",
      "( 9, 3)\n",
      "( 9, 4)\n",
      "( 9, 5)\n",
      "( 9, 6)\n",
      "( 9, 7)\n",
      "( 9, 8)\n",
      "( 9,10)\n",
      "(10, 1)\n",
      "(10, 2)\n",
      "(10, 3)\n",
      "(10, 4)\n",
      "(10, 5)\n",
      "(10, 6)\n",
      "(10, 7)\n",
      "(10, 8)\n",
      "(10, 9)\n",
      "Total combinations is 90.\n"
     ]
    }
   ],
   "source": [
    "# Number of combinations.\n",
    "no_combs = 0\n",
    "\n",
    "# Select the first position.\n",
    "for first in [1, 2, 3, 4, 5, 6, 7, 8, 9, 10]:\n",
    "    # Select the position for the second position.\n",
    "    for second in [1, 2, 3, 4, 5, 6, 7, 8, 9, 10]:\n",
    "        # Make sure the first and second positions are different.\n",
    "        if not first == second:\n",
    "            # Print the combination.\n",
    "            print(f'({first:2},{second:2})')\n",
    "            # Add one to number of combinations.\n",
    "            no_combs = no_combs + 1\n",
    "\n",
    "# Print total number of combinations.\n",
    "print(f'Total combinations is {no_combs}.')\n"
   ]
  },
  {
   "cell_type": "markdown",
   "id": "915b8855",
   "metadata": {},
   "source": [
    "### Exercise 1\n",
    "\n",
    "It is somewhat interesting that (5 * 4 * 3 * 2 * 1) perfectly divides (10 * 9 * 8 * 7 * 6) - there's no remainder.\n",
    "\n",
    "If we only wanted exactly four heads as opposed to five, the equivalent calculation would be (10 * 9 * 8 * 7) / (4 * 3 * 2 * 1).\n",
    "\n",
    "(i) Does that evenly divide too? \n",
    "That divides evenly\n",
    "(ii) What is the formula in general?\n",
    "The formula for repeating, non ordered combinations is \n",
    "\n",
    "(r + n − 1)! / r!(n − 1)!\n",
    "\n",
    "where n is the number of things to choose from,\n",
    "and we choose r of them\n",
    "repetition is allowed,\n",
    "order doesn't matter. \n",
    "https://www.mathsisfun.com/combinatorics/combinations-permutations.html \n",
    " \n",
    "(ii) Does it always come out as a positive whole number?\n",
    "It will always come out positive because n is a number of things or a count of things which is not negative and likewise counts are whole numbers. \n",
    "\n",
    "https://math.stackexchange.com/questions/11601/proof-that-a-combination-is-an-integer\n",
    "https://www.quora.com/Are-permutations-and-combinations-always-a-whole-number\n",
    "\n"
   ]
  },
  {
   "cell_type": "code",
   "execution_count": 6,
   "id": "8d4da4b8",
   "metadata": {},
   "outputs": [
    {
     "data": {
      "text/plain": [
       "210"
      ]
     },
     "execution_count": 6,
     "metadata": {},
     "output_type": "execute_result"
    }
   ],
   "source": [
    "(10 * 9 * 8 * 7) // (4 * 3 * 2 * 1)"
   ]
  },
  {
   "cell_type": "markdown",
   "id": "5d49893a",
   "metadata": {},
   "source": [
    "#### Exercise 2\n",
    "\n",
    "(i) Note that there are the same number of ways to get 4 tails as there to get 4 heads. Explain why this is.\n",
    "The probability is 50/50 for tails or heads so the calculation will resolve to the same result. \n",
    "\n",
    "(ii) If you get 4 heads how many tails will you get, name the calculation in Maths and explain. \n",
    "If you flip a fair coin ten times and you get 4 heads, you will get 6 tails. It's called subtraction. "
   ]
  }
 ],
 "metadata": {
  "kernelspec": {
   "display_name": "Python 3 (ipykernel)",
   "language": "python",
   "name": "python3"
  },
  "language_info": {
   "codemirror_mode": {
    "name": "ipython",
    "version": 3
   },
   "file_extension": ".py",
   "mimetype": "text/x-python",
   "name": "python",
   "nbconvert_exporter": "python",
   "pygments_lexer": "ipython3",
   "version": "3.9.7"
  }
 },
 "nbformat": 4,
 "nbformat_minor": 5
}
